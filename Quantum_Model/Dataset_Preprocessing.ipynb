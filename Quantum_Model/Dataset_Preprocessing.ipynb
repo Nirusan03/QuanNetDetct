{
 "cells": [
  {
   "cell_type": "code",
   "execution_count": 25,
   "metadata": {},
   "outputs": [],
   "source": [
    "# Importing the required files\n",
    "from sklearn.model_selection import train_test_split\n",
    "from sklearn.preprocessing import LabelEncoder\n",
    "from sklearn.preprocessing import MinMaxScaler\n",
    "from sklearn.ensemble import RandomForestClassifier\n",
    "import matplotlib.pyplot as plt\n",
    "import numpy as np\n",
    "import pandas as pd"
   ]
  },
  {
   "cell_type": "code",
   "execution_count": 26,
   "metadata": {},
   "outputs": [],
   "source": [
    "# Load the original dataset.\n",
    "file_path = \"E:\\\\Studies\\\\IIT\\\\4 - Forth Year\\\\Final Year Project\\\\QuanNetDetct\\\\Datasets\\\\Darknet.csv\"\n",
    "darknet_data = pd.read_csv(file_path)"
   ]
  },
  {
   "cell_type": "markdown",
   "metadata": {},
   "source": [
    "# **Model Pre-processing**"
   ]
  },
  {
   "cell_type": "code",
   "execution_count": 27,
   "metadata": {},
   "outputs": [
    {
     "name": "stdout",
     "output_type": "stream",
     "text": [
      "Filtered TLS dataset saved as 'Filtered_TLS_Darknet.csv'\n"
     ]
    }
   ],
   "source": [
    "#  Process 1 - Filter TLS-related traffic.\n",
    "tls_ports = [443, 993, 995, 465, 8443]\n",
    "tls_traffic = darknet_data[\n",
    "    (darknet_data['Dst Port'].isin(tls_ports)) &  # Destination port is TLS-related.\n",
    "    (darknet_data['Protocol'] == 6)              # Protocol is TCP.\n",
    "]\n",
    "\n",
    "# Save filtered dataset for viewing purposes.\n",
    "tls_traffic.to_csv(\"1. Filtered_TLS_Darknet.csv\", index=False)\n",
    "print(\"Filtered TLS dataset saved as 'Filtered_TLS_Darknet.csv'\")"
   ]
  },
  {
   "cell_type": "code",
   "execution_count": 28,
   "metadata": {},
   "outputs": [
    {
     "name": "stdout",
     "output_type": "stream",
     "text": [
      "Encoded TLS dataset saved as 'Encoded_TLS_Darknet.csv'\n"
     ]
    }
   ],
   "source": [
    "#  Process 2 - Encoding the TLS traffic data.\n",
    "\n",
    "# Creating object of Label Encoder class.\n",
    "label_encoder = LabelEncoder()\n",
    "\n",
    "# Encode string columns.\n",
    "for column in tls_traffic.select_dtypes(include=['object']).columns:\n",
    "    tls_traffic.loc[:, column] = label_encoder.fit_transform(tls_traffic[column])\n",
    "\n",
    "# Save encoded dataset for viewing purposes.\n",
    "tls_traffic.to_csv(\"2. Encoded_TLS_Darknet.csv\", index=False)\n",
    "print(\"Encoded TLS dataset saved as 'Encoded_TLS_Darknet.csv'\")"
   ]
  },
  {
   "cell_type": "code",
   "execution_count": 29,
   "metadata": {},
   "outputs": [
    {
     "name": "stdout",
     "output_type": "stream",
     "text": [
      "Scaled TLS dataset saved as 'Scaled_TLS_Darknet.csv'\n"
     ]
    }
   ],
   "source": [
    "#  Process 3- Scaling the TLS traffic data.\n",
    "\n",
    "# Step 1: Identify Numeric Columns to Scale.\n",
    "# Exclude columns that should not be scaled.\n",
    "columns_to_exclude = ['Protocol', 'Dst Port']  # Add any additional columns to exclude if needed.\n",
    "numeric_columns = tls_traffic.select_dtypes(include=['float64', 'int64']).columns.difference(columns_to_exclude)\n",
    "\n",
    "# Step 2: Check and Replace Invalid Values.\n",
    "# Replace infinity values with NaN.\n",
    "tls_traffic.loc[:, numeric_columns] = tls_traffic[numeric_columns].replace([np.inf, -np.inf], np.nan)\n",
    "\n",
    "# Fill NaN values with column means.\n",
    "tls_traffic.loc[:, numeric_columns] = tls_traffic[numeric_columns].fillna(tls_traffic[numeric_columns].mean())\n",
    "\n",
    "# Step 3: Scale Only the Selected Numeric Columns.\n",
    "scaler = MinMaxScaler()\n",
    "tls_traffic.loc[:, numeric_columns] = scaler.fit_transform(tls_traffic[numeric_columns])\n",
    "\n",
    "# Step 4: Save the Scaled Dataset for Viewing.\n",
    "tls_traffic.to_csv(\"3. Scaled_TLS_Darknet.csv\", index=False)\n",
    "print(\"Scaled TLS dataset saved as 'Scaled_TLS_Darknet.csv'\")"
   ]
  },
  {
   "cell_type": "markdown",
   "metadata": {},
   "source": [
    "# **Feature Selection and Feature Importance**"
   ]
  },
  {
   "cell_type": "code",
   "execution_count": 31,
   "metadata": {},
   "outputs": [
    {
     "name": "stdout",
     "output_type": "stream",
     "text": [
      "Selected Features Based on Correlation with 'Label':\n",
      "Timestamp                -0.300921\n",
      "Fwd Packet Length Mean    0.111124\n",
      "Fwd PSH Flags             0.116855\n",
      "SYN Flag Count           -0.177119\n",
      "Fwd Segment Size Avg      0.111124\n",
      "Subflow Fwd Packets       0.100899\n",
      "FWD Init Win Bytes        0.295231\n",
      "Bwd Init Win Bytes        0.269703\n",
      "Fwd Seg Size Min          0.754610\n",
      "Name: Label, dtype: float64\n",
      "Feature-selected dataset without identifiers saved as '4. Feature_Selected_Dataset_Without_Identifiers.csv'\n"
     ]
    }
   ],
   "source": [
    "# Process 4 - Feature Selection.\n",
    "\n",
    "# Define the target variable.\n",
    "target_variable = 'Label'\n",
    "\n",
    "# Calculate the correlation matrix.\n",
    "correlation_matrix = tls_traffic.corr()\n",
    "\n",
    "# Extract correlations with the target variable.\n",
    "target_correlation = correlation_matrix[target_variable].drop(target_variable)\n",
    "\n",
    "# Set a threshold for correlation (absolute value).\n",
    "threshold = 0.1  # Adjust this based on your needs (e.g., 0.1 for weak correlation).\n",
    "\n",
    "# Select features that are strongly correlated with the target.\n",
    "selected_features = target_correlation[abs(target_correlation) > threshold]\n",
    "\n",
    "# Remove identifier columns from the selected features.\n",
    "identifiers = ['Flow ID', 'Src IP']\n",
    "selected_features = selected_features.drop(index=identifiers, errors='ignore')\n",
    "\n",
    "# Print the selected features and their correlation values.\n",
    "print(\"Selected Features Based on Correlation with 'Label':\")\n",
    "print(selected_features)\n",
    "\n",
    "# Update tls_traffic to retain only selected features and the target variable.\n",
    "tls_traffic = tls_traffic[selected_features.index.tolist() + [target_variable]]\n",
    "\n",
    "# Save the updated dataset for review.\n",
    "tls_traffic.to_csv(\"4. Feature_Selected_Dataset_Without_Identifiers.csv\", index=False)\n",
    "print(\"Feature-selected dataset without identifiers saved as '4. Feature_Selected_Dataset_Without_Identifiers.csv'\")"
   ]
  },
  {
   "cell_type": "code",
   "execution_count": 32,
   "metadata": {},
   "outputs": [
    {
     "name": "stdout",
     "output_type": "stream",
     "text": [
      "Feature Importance:\n",
      "                  Feature  Importance\n",
      "0               Timestamp    0.353997\n",
      "8        Fwd Seg Size Min    0.236636\n",
      "6      FWD Init Win Bytes    0.189628\n",
      "7      Bwd Init Win Bytes    0.160596\n",
      "1  Fwd Packet Length Mean    0.021654\n",
      "4    Fwd Segment Size Avg    0.021053\n",
      "3          SYN Flag Count    0.008305\n",
      "2           Fwd PSH Flags    0.005236\n",
      "5     Subflow Fwd Packets    0.002895\n"
     ]
    },
    {
     "data": {
      "image/png": "[encoded data removed]",
      "text/plain": [
       "<Figure size 1000x600 with 1 Axes>"
      ]
     },
     "metadata": {},
     "output_type": "display_data"
    }
   ],
   "source": [
    "# Process 5 - Feature Importance validation.\n",
    "\n",
    "# Ensure the target variable is properly encoded\n",
    "tls_traffic['Label'] = tls_traffic['Label'].astype(int)  # Convert to integer if needed\n",
    "\n",
    "# Separate features and target variable.\n",
    "X = tls_traffic.drop(columns=['Label'])\n",
    "y = tls_traffic['Label']\n",
    "\n",
    "# Initialize and train the Random Forest model.\n",
    "rf_model = RandomForestClassifier(random_state=42)\n",
    "rf_model.fit(X, y)\n",
    "\n",
    "# Calculate feature importance.\n",
    "feature_importances = rf_model.feature_importances_\n",
    "\n",
    "# Create a DataFrame for better visualisation.\n",
    "feature_importance_df = pd.DataFrame({\n",
    "    'Feature': X.columns,\n",
    "    'Importance': feature_importances\n",
    "}).sort_values(by='Importance', ascending=False)\n",
    "\n",
    "# Print feature importance.\n",
    "print(\"Feature Importance:\")\n",
    "print(feature_importance_df)\n",
    "\n",
    "# Plot feature importance.\n",
    "plt.figure(figsize=(10, 6))\n",
    "plt.barh(feature_importance_df['Feature'], feature_importance_df['Importance'], align='center')\n",
    "plt.xlabel('Feature Importance')\n",
    "plt.ylabel('Features')\n",
    "plt.title('Feature Importance from Random Forest')\n",
    "plt.gca().invert_yaxis()\n",
    "plt.show()"
   ]
  },
  {
   "cell_type": "markdown",
   "metadata": {},
   "source": [
    "# **Spliting Training and Testing Dataset**"
   ]
  },
  {
   "cell_type": "code",
   "execution_count": 33,
   "metadata": {},
   "outputs": [
    {
     "name": "stdout",
     "output_type": "stream",
     "text": [
      "Training and testing datasets created.\n"
     ]
    }
   ],
   "source": [
    "# Process 6 - Splitting the dataset.\n",
    "X = tls_traffic.drop(columns=['Label'])\n",
    "y = tls_traffic['Label']\n",
    "\n",
    "X_train, X_test, y_train, y_test = train_test_split(X, y, test_size=0.2, random_state=42, stratify=y)\n",
    "print(\"Training and testing datasets created.\")"
   ]
  },
  {
   "cell_type": "markdown",
   "metadata": {},
   "source": []
  }
 ],
 "metadata": {
  "kernelspec": {
   "display_name": "Python 3",
   "language": "python",
   "name": "python3"
  },
  "language_info": {
   "codemirror_mode": {
    "name": "ipython",
    "version": 3
   },
   "file_extension": ".py",
   "mimetype": "text/x-python",
   "name": "python",
   "nbconvert_exporter": "python",
   "pygments_lexer": "ipython3",
   "version": "3.10.11"
  }
 },
 "nbformat": 4,
 "nbformat_minor": 2
}
