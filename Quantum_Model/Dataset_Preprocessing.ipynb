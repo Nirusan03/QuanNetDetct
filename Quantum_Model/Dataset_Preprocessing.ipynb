{
 "cells": [
  {
   "cell_type": "code",
   "execution_count": 10,
   "metadata": {},
   "outputs": [
    {
     "name": "stdout",
     "output_type": "stream",
     "text": [
      "Filtered TLS dataset saved as 'Filtered_TLS_Darknet.csv'\n"
     ]
    }
   ],
   "source": [
    "import pandas as pd\n",
    "\n",
    "# Load the original dataset\n",
    "file_path = \"E:\\\\Studies\\\\IIT\\\\4 - Forth Year\\\\Final Year Project\\\\QuanNetDetct\\\\Datasets\\\\Darknet.csv\"\n",
    "darknet_data = pd.read_csv(file_path)\n",
    "\n",
    "# Filter TLS-related traffic\n",
    "tls_ports = [443, 993, 995, 465, 8443]\n",
    "tls_traffic = darknet_data[\n",
    "    (darknet_data['Dst Port'].isin(tls_ports)) &  # Destination port is TLS-related\n",
    "    (darknet_data['Protocol'] == 6)              # Protocol is TCP\n",
    "]\n",
    "\n",
    "# Save filtered dataset for viewing purposes\n",
    "tls_traffic.to_csv(\"Filtered_TLS_Darknet.csv\", index=False)\n",
    "print(\"Filtered TLS dataset saved as 'Filtered_TLS_Darknet.csv'\")"
   ]
  },
  {
   "cell_type": "code",
   "execution_count": null,
   "metadata": {},
   "outputs": [
    {
     "name": "stdout",
     "output_type": "stream",
     "text": [
      "Encoded TLS dataset saved as 'Encoded_TLS_Darknet.csv'\n"
     ]
    }
   ],
   "source": [
    "from sklearn.preprocessing import LabelEncoder\n",
    "\n",
    "# Continue with tls_traffic from Block 1\n",
    "label_encoder = LabelEncoder()\n",
    "\n",
    "# Encode string columns\n",
    "for column in tls_traffic.select_dtypes(include=['object']).columns:\n",
    "    tls_traffic.loc[:, column] = label_encoder.fit_transform(tls_traffic[column])\n",
    "\n",
    "# Save encoded dataset for viewing purposes\n",
    "tls_traffic.to_csv(\"Encoded_TLS_Darknet.csv\", index=False)\n",
    "print(\"Encoded TLS dataset saved as 'Encoded_TLS_Darknet.csv'\")\n"
   ]
  },
  {
   "cell_type": "code",
   "execution_count": 21,
   "metadata": {},
   "outputs": [
    {
     "name": "stdout",
     "output_type": "stream",
     "text": [
      "Scaled TLS dataset saved as 'Scaled_TLS_Darknet.csv'\n"
     ]
    }
   ],
   "source": [
    "from sklearn.preprocessing import MinMaxScaler\n",
    "import numpy as np\n",
    "\n",
    "# Continue with tls_traffic from the encoding step\n",
    "\n",
    "# Step 1: Check and Replace Invalid Values\n",
    "numeric_columns = tls_traffic.select_dtypes(include=['float64', 'int64']).columns\n",
    "\n",
    "# Replace infinity values with NaN\n",
    "tls_traffic.loc[:, numeric_columns] = tls_traffic[numeric_columns].replace([np.inf, -np.inf], np.nan)\n",
    "\n",
    "# Fill NaN values with column means\n",
    "tls_traffic.loc[:, numeric_columns] = tls_traffic[numeric_columns].fillna(tls_traffic[numeric_columns].mean())\n",
    "\n",
    "# Step 2: Scale Numeric Columns\n",
    "scaler = MinMaxScaler()\n",
    "tls_traffic.loc[:, numeric_columns] = scaler.fit_transform(tls_traffic[numeric_columns])\n",
    "\n",
    "# Step 3: Save the Scaled Dataset for Viewing\n",
    "tls_traffic.to_csv(\"Scaled_TLS_Darknet.csv\", index=False)\n",
    "print(\"Scaled TLS dataset saved as 'Scaled_TLS_Darknet.csv'\")"
   ]
  },
  {
   "cell_type": "code",
   "execution_count": 22,
   "metadata": {},
   "outputs": [
    {
     "name": "stdout",
     "output_type": "stream",
     "text": [
      "Selected Features Based on Correlation with 'Label1':\n",
      "Flow ID                   0.461061\n",
      "Src IP                    0.428061\n",
      "Timestamp                -0.300921\n",
      "Fwd Packet Length Mean    0.111124\n",
      "Fwd PSH Flags             0.116855\n",
      "SYN Flag Count           -0.177119\n",
      "Fwd Segment Size Avg      0.111124\n",
      "Subflow Fwd Packets       0.100899\n",
      "FWD Init Win Bytes        0.295231\n",
      "Bwd Init Win Bytes        0.269703\n",
      "Fwd Seg Size Min          0.754610\n",
      "Name: Label, dtype: float64\n",
      "Feature-selected dataset saved as 'Feature_Selected_Dataset.csv'\n"
     ]
    }
   ],
   "source": [
    "# Define the target variable\n",
    "target_variable = 'Label'\n",
    "\n",
    "# Calculate the correlation matrix\n",
    "correlation_matrix = tls_traffic.corr()\n",
    "\n",
    "# Extract correlations with the target variable\n",
    "target_correlation = correlation_matrix[target_variable].drop(target_variable)\n",
    "\n",
    "# Set a threshold for correlation (absolute value)\n",
    "threshold = 0.1  # Adjust this based on your needs (e.g., 0.1 for weak correlation)\n",
    "\n",
    "# Select features that are strongly correlated with the target\n",
    "selected_features = target_correlation[abs(target_correlation) > threshold]\n",
    "\n",
    "# Print the selected features and their correlation values\n",
    "print(\"Selected Features Based on Correlation with 'Label1':\")\n",
    "print(selected_features)\n",
    "\n",
    "# Create a new dataset with selected features and the target variable\n",
    "selected_data = tls_traffic[selected_features.index.tolist() + [target_variable]]\n",
    "\n",
    "# Save the feature-selected dataset for review\n",
    "selected_data.to_csv(\"Feature_Selected_Dataset.csv\", index=False)\n",
    "print(\"Feature-selected dataset saved as 'Feature_Selected_Dataset.csv'\")"
   ]
  }
 ],
 "metadata": {
  "kernelspec": {
   "display_name": "Python 3",
   "language": "python",
   "name": "python3"
  },
  "language_info": {
   "codemirror_mode": {
    "name": "ipython",
    "version": 3
   },
   "file_extension": ".py",
   "mimetype": "text/x-python",
   "name": "python",
   "nbconvert_exporter": "python",
   "pygments_lexer": "ipython3",
   "version": "3.10.11"
  }
 },
 "nbformat": 4,
 "nbformat_minor": 2
}
