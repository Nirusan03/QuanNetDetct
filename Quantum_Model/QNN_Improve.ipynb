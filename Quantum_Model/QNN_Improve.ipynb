{
 "cells": [
  {
   "cell_type": "code",
   "execution_count": 20,
   "metadata": {},
   "outputs": [],
   "source": [
    "# Importing the required files\n",
    "from sklearn.model_selection import train_test_split\n",
    "from sklearn.preprocessing import LabelEncoder\n",
    "from sklearn.preprocessing import MinMaxScaler\n",
    "from sklearn.preprocessing import PolynomialFeatures\n",
    "from sklearn.ensemble import RandomForestClassifier\n",
    "from sklearn.metrics import classification_report\n",
    "from sklearn.metrics import accuracy_score\n",
    "from tensorflow.keras.utils import to_categorical\n",
    "from imblearn.over_sampling import SMOTE\n",
    "from collections import Counter\n",
    "import pennylane as qml\n",
    "from pennylane import numpy as np\n",
    "import matplotlib.pyplot as plt\n",
    "import tensorflow as tf\n",
    "import numpy as np\n",
    "import pandas as pd\n",
    "import seaborn as sns\n",
    "\n",
    "# Set random seed for reproducibility\n",
    "np.random.seed(42)"
   ]
  },
  {
   "cell_type": "code",
   "execution_count": 21,
   "metadata": {},
   "outputs": [],
   "source": [
    "# Load the original dataset.\n",
    "file_path = \"E:\\\\Studies\\\\IIT\\\\4 - Forth Year\\\\Final Year Project\\\\QuanNetDetct\\\\Datasets\\\\Darknet.csv\"\n",
    "darknet_data = pd.read_csv(file_path)"
   ]
  },
  {
   "cell_type": "code",
   "execution_count": 22,
   "metadata": {},
   "outputs": [
    {
     "name": "stdout",
     "output_type": "stream",
     "text": [
      "TLS traffic filtered!\n"
     ]
    }
   ],
   "source": [
    "#  Process 1 - Filter TLS-related traffic.\n",
    "tls_ports = [443, 993, 995, 465, 8443]\n",
    "tls_traffic = darknet_data[\n",
    "    (darknet_data['Dst Port'].isin(tls_ports)) &  # Destination port is TLS-related.\n",
    "    (darknet_data['Protocol'] == 6)              # Protocol is TCP.\n",
    "]\n",
    "\n",
    "print(\"TLS traffic filtered!\")"
   ]
  },
  {
   "cell_type": "code",
   "execution_count": 24,
   "metadata": {},
   "outputs": [
    {
     "name": "stdout",
     "output_type": "stream",
     "text": [
      "Encoding Completed!\n"
     ]
    }
   ],
   "source": [
    "#  Process 2 - Encoding the TLS traffic data.\n",
    "\n",
    "# Creating an object of the LabelEncoder class\n",
    "label_encoder = LabelEncoder()\n",
    "\n",
    "# Encode string columns\n",
    "for column in tls_traffic.select_dtypes(include=['object']).columns:\n",
    "    # Assign explicitly to avoid warning\n",
    "    encoded_column = label_encoder.fit_transform(tls_traffic[column])\n",
    "    tls_traffic.loc[:, column] = encoded_column\n",
    "\n",
    "print(\"Encoding Completed!\")"
   ]
  },
  {
   "cell_type": "code",
   "execution_count": 25,
   "metadata": {},
   "outputs": [
    {
     "name": "stdout",
     "output_type": "stream",
     "text": [
      "Scaling completed!\n"
     ]
    }
   ],
   "source": [
    "# Process 3 - Scaling the TLS traffic data\n",
    "\n",
    "# Step 1: Make a copy of the DataFrame to avoid SettingWithCopyWarning\n",
    "tls_traffic = tls_traffic.copy()\n",
    "\n",
    "# Step 2: Identify Numeric Columns to Scale\n",
    "# Exclude columns that should not be scaled\n",
    "columns_to_exclude = ['Protocol', 'Dst Port']  # Add any additional columns to exclude if needed\n",
    "numeric_columns = tls_traffic.select_dtypes(include=['float64', 'int64']).columns.difference(columns_to_exclude)\n",
    "\n",
    "# Step 3: Check and Replace Invalid Values\n",
    "# Replace infinity values with NaN\n",
    "tls_traffic[numeric_columns] = tls_traffic[numeric_columns].replace([np.inf, -np.inf], np.nan)\n",
    "\n",
    "# Fill NaN values with column means\n",
    "tls_traffic[numeric_columns] = tls_traffic[numeric_columns].fillna(tls_traffic[numeric_columns].mean())\n",
    "\n",
    "# Step 4: Scale Only the Selected Numeric Columns\n",
    "scaler = MinMaxScaler()\n",
    "tls_traffic[numeric_columns] = scaler.fit_transform(tls_traffic[numeric_columns])\n",
    "\n",
    "# Print confirmation\n",
    "print(\"Scaling completed!\")"
   ]
  },
  {
   "cell_type": "code",
   "execution_count": 26,
   "metadata": {},
   "outputs": [
    {
     "name": "stdout",
     "output_type": "stream",
     "text": [
      "Class distribution before SMOTE: Counter({0: 11395, 1: 11395, 2: 11395, 3: 11395})\n",
      "Class distribution after SMOTE: Counter({0: 11395, 1: 11395, 2: 11395, 3: 11395})\n"
     ]
    }
   ],
   "source": [
    "# Process 4 - SMOTE Class imbalance\n",
    "\n",
    "# Step 1: Define the target variable and features\n",
    "X = tls_traffic.drop('Label', axis=1)  # Features\n",
    "y = tls_traffic['Label']              # Target\n",
    "\n",
    "# Step 2: Apply SMOTE\n",
    "smote = SMOTE(random_state=42)\n",
    "X, y = smote.fit_resample(X, y)\n",
    "\n",
    "# Step 3: Combine features and target back into tls_traffic\n",
    "tls_traffic = pd.DataFrame(X, columns=X.columns)\n",
    "tls_traffic['Label'] = y\n",
    "\n",
    "# Step 4: Display class distribution after SMOTE\n",
    "print(\"Class distribution before SMOTE:\", Counter(y))\n",
    "print(\"Class distribution after SMOTE:\", Counter(y))"
   ]
  },
  {
   "cell_type": "code",
   "execution_count": 27,
   "metadata": {},
   "outputs": [
    {
     "name": "stdout",
     "output_type": "stream",
     "text": [
      "Selected Features Based on Correlation with 'Label':\n",
      "Timestamp                -0.195448\n",
      "Flow Duration             0.142499\n",
      "Fwd Packet Length Max     0.144930\n",
      "Fwd Packet Length Mean    0.159332\n",
      "Fwd Packet Length Std     0.132663\n",
      "Fwd IAT Total             0.143751\n",
      "Bwd IAT Total             0.137290\n",
      "Fwd PSH Flags             0.182089\n",
      "Packet Length Mean        0.107494\n",
      "FIN Flag Count           -0.172478\n",
      "SYN Flag Count           -0.205988\n",
      "Average Packet Size       0.108640\n",
      "Fwd Segment Size Avg      0.159332\n",
      "Subflow Fwd Bytes         0.132347\n",
      "FWD Init Win Bytes        0.265631\n",
      "Bwd Init Win Bytes        0.240076\n",
      "Fwd Seg Size Min          0.486229\n",
      "Name: Label, dtype: float64\n",
      "Timestamp feature removed after feature selection!\n",
      "Feature-selected dataset without Timestamp saved as '5. Feature_Selected_Dataset.csv'\n"
     ]
    }
   ],
   "source": [
    "# Process 5 - Feature Selection.\n",
    "\n",
    "# Define the target variable.\n",
    "target_variable = 'Label'\n",
    "\n",
    "# Calculate the correlation matrix.\n",
    "correlation_matrix = tls_traffic.corr()\n",
    "\n",
    "# Extract correlations with the target variable.\n",
    "target_correlation = correlation_matrix[target_variable].drop(target_variable)\n",
    "\n",
    "# Set a threshold for correlation (absolute value).\n",
    "threshold = 0.1  # Adjust this based on your needs (e.g., 0.1 for weak correlation).\n",
    "\n",
    "# Select features that are strongly correlated with the target.\n",
    "selected_features = target_correlation[abs(target_correlation) > threshold]\n",
    "\n",
    "# Remove identifier columns from the selected features.\n",
    "identifiers = ['Flow ID', 'Src IP']\n",
    "selected_features = selected_features.drop(index=identifiers, errors='ignore')\n",
    "\n",
    "# Print the selected features and their correlation values.\n",
    "print(\"Selected Features Based on Correlation with 'Label':\")\n",
    "print(selected_features)\n",
    "\n",
    "# Update tls_traffic to retain only selected features and the target variable.\n",
    "tls_traffic = tls_traffic[selected_features.index.tolist() + [target_variable]]\n",
    "\n",
    "# Remove 'Timestamp' after feature selection if it's in the dataset.\n",
    "if 'Timestamp' in tls_traffic.columns:\n",
    "    tls_traffic = tls_traffic.drop(columns=['Timestamp'])\n",
    "    print(\"Timestamp feature removed after feature selection!\")\n",
    "\n",
    "# Save the updated dataset for review.\n",
    "tls_traffic.to_csv(\"5. Feature_Selected_Dataset.csv\", index=False)\n",
    "print(\"Feature-selected dataset without Timestamp saved as '5. Feature_Selected_Dataset.csv'\")"
   ]
  },
  {
   "cell_type": "code",
   "execution_count": 28,
   "metadata": {},
   "outputs": [
    {
     "name": "stdout",
     "output_type": "stream",
     "text": [
      "Feature Importance:\n",
      "                   Feature  Importance\n",
      "14      Bwd Init Win Bytes    0.220324\n",
      "13      FWD Init Win Bytes    0.188212\n",
      "15        Fwd Seg Size Min    0.152874\n",
      "10     Average Packet Size    0.057117\n",
      "7       Packet Length Mean    0.055503\n",
      "0            Flow Duration    0.047862\n",
      "1    Fwd Packet Length Max    0.041057\n",
      "4            Fwd IAT Total    0.039868\n",
      "5            Bwd IAT Total    0.037297\n",
      "9           SYN Flag Count    0.029274\n",
      "11    Fwd Segment Size Avg    0.026895\n",
      "3    Fwd Packet Length Std    0.025312\n",
      "8           FIN Flag Count    0.023188\n",
      "2   Fwd Packet Length Mean    0.021638\n",
      "12       Subflow Fwd Bytes    0.019614\n",
      "6            Fwd PSH Flags    0.013965\n"
     ]
    },
    {
     "data": {
      "image/png": "[encoded data removed]",
      "text/plain": [
       "<Figure size 1000x600 with 1 Axes>"
      ]
     },
     "metadata": {},
     "output_type": "display_data"
    }
   ],
   "source": [
    "# Process 6 - Feature Importance validation using Random Forest Classifier.\n",
    "\n",
    "# Ensure the target variable is properly encoded\n",
    "tls_traffic['Label'] = tls_traffic['Label'].astype(int)  # Convert to integer if needed\n",
    "\n",
    "# Separate features and target variable.\n",
    "X = tls_traffic.drop(columns=['Label'])\n",
    "y = tls_traffic['Label']\n",
    "\n",
    "# Initialize and train the Random Forest model.\n",
    "rf_model = RandomForestClassifier(random_state=42)\n",
    "rf_model.fit(X, y)\n",
    "\n",
    "# Calculate feature importance.\n",
    "feature_importances = rf_model.feature_importances_\n",
    "\n",
    "# Create a DataFrame for better visualisation.\n",
    "feature_importance_df = pd.DataFrame({\n",
    "    'Feature': X.columns,\n",
    "    'Importance': feature_importances\n",
    "}).sort_values(by='Importance', ascending=False)\n",
    "\n",
    "# Print feature importance.\n",
    "print(\"Feature Importance:\")\n",
    "print(feature_importance_df)\n",
    "\n",
    "# Plot feature importance.\n",
    "plt.figure(figsize=(10, 6))\n",
    "plt.barh(feature_importance_df['Feature'], feature_importance_df['Importance'], align='center')\n",
    "plt.xlabel('Feature Importance')\n",
    "plt.ylabel('Features')\n",
    "plt.title('Feature Importance from Random Forest')\n",
    "plt.gca().invert_yaxis()\n",
    "plt.show()"
   ]
  },
  {
   "cell_type": "markdown",
   "metadata": {},
   "source": [
    "**Do Weighted scalling only if the accruracy is low**"
   ]
  },
  {
   "cell_type": "code",
   "execution_count": 29,
   "metadata": {},
   "outputs": [
    {
     "name": "stdout",
     "output_type": "stream",
     "text": [
      "Weighted scaling completed!\n",
      "Weighted scaled dataset saved as '7. Weighted scaled dataset.csv'\n"
     ]
    }
   ],
   "source": [
    "# Process 7 - Weighted Scaling\n",
    "\n",
    "# Calculate feature importance weights\n",
    "importance_weights = selected_features / selected_features.sum()\n",
    "\n",
    "# Apply weighted scaling to numeric columns\n",
    "weighted_numeric_columns = numeric_columns.intersection(selected_features.index)\n",
    "\n",
    "# Multiply each feature by its corresponding importance weight\n",
    "for column in weighted_numeric_columns:\n",
    "    tls_traffic[column] = tls_traffic[column] * importance_weights[column]\n",
    "\n",
    "print(\"Weighted scaling completed!\")\n",
    "\n",
    "# Save the updated dataset for review.\n",
    "tls_traffic.to_csv(\"7. Weighted scaled dataset.csv\", index=False)\n",
    "print(\"Weighted scaled dataset saved as '7. Weighted scaled dataset.csv'\")"
   ]
  },
  {
   "cell_type": "markdown",
   "metadata": {},
   "source": [
    "**Do ploynominal feature enhancement only if the accruracy is low**"
   ]
  },
  {
   "cell_type": "code",
   "execution_count": 10,
   "metadata": {},
   "outputs": [],
   "source": [
    "# # Process 8 - Ploynominal Feature Enhancement\n",
    "\n",
    "# # Ensure the column names are valid\n",
    "# weighted_numeric_columns_list = list(weighted_numeric_columns)  # Define weighted numeric columns as a list\n",
    "\n",
    "# # Step 1: Polynomial Features\n",
    "# poly = PolynomialFeatures(degree=2, interaction_only=False, include_bias=False)\n",
    "\n",
    "# # Filter valid columns in the dataset\n",
    "# weighted_numeric_columns_list = [col for col in weighted_numeric_columns_list if col in tls_traffic.columns]\n",
    "\n",
    "# # Transform the dataset for weighted numeric columns\n",
    "# poly_features = poly.fit_transform(tls_traffic[weighted_numeric_columns_list])\n",
    "\n",
    "# # Debug: Verify alignment\n",
    "# print(\"Length of weighted_numeric_columns_list:\", len(weighted_numeric_columns_list))\n",
    "# print(\"Shape of poly_features:\", poly_features.shape)\n",
    "# print(\"Length of poly.powers_:\", len(poly.powers_))\n",
    "\n",
    "# # Step 2: Generate Feature Names Dynamically\n",
    "# poly_feature_names = []\n",
    "# for powers in poly.powers_:\n",
    "#     poly_feature_names.append(\n",
    "#         \" * \".join(\n",
    "#             f\"{weighted_numeric_columns_list[i]}^{power}\"\n",
    "#             for i, power in enumerate(powers)\n",
    "#             if i < len(weighted_numeric_columns_list) and power > 0\n",
    "#         ) or \"1\"\n",
    "#     )\n",
    "\n",
    "# # Step 3: Combine Polynomial Features into the Dataset\n",
    "# poly_df = pd.DataFrame(poly_features, columns=poly_feature_names)\n",
    "# tls_traffic = pd.concat([tls_traffic.reset_index(drop=True), poly_df.reset_index(drop=True)], axis=1)\n",
    "\n",
    "# # Step 4: Interaction Terms\n",
    "# # Select the top 2 features based on their importance\n",
    "# top_features = selected_features.sort_values(ascending=False).head(2).index.tolist()\n",
    "\n",
    "# # Debug: Ensure top_features has exactly 2 valid columns\n",
    "# print(\"Top features:\", top_features)\n",
    "# if len(top_features) < 2:\n",
    "#     raise ValueError(\"Insufficient top features for interaction terms!\")\n",
    "# if tls_traffic[top_features[0]].ndim > 1 or tls_traffic[top_features[1]].ndim > 1:\n",
    "#     raise ValueError(f\"Unexpected multi-column selection in top_features: {top_features}\")\n",
    "\n",
    "# # Generate the interaction term for the top features\n",
    "# interaction_term = tls_traffic[top_features[0]].astype(float) * tls_traffic[top_features[1]].astype(float)\n",
    "# tls_traffic[f\"Interaction_{top_features[0]}_x_{top_features[1]}\"] = interaction_term\n",
    "\n",
    "# print(\"Enhanced preprocessing pipeline applied successfully!\")\n",
    "\n",
    "# # Save the enhanced dataset\n",
    "# tls_traffic.to_csv(\"8. Polynomial_Features_and_Interaction_Terms.csv\", index=False)\n",
    "# print(\"Enhanced dataset saved to '8. Polynomial_Features_and_Interaction_Terms.csv'\")"
   ]
  },
  {
   "cell_type": "code",
   "execution_count": 30,
   "metadata": {},
   "outputs": [
    {
     "name": "stdout",
     "output_type": "stream",
     "text": [
      "Ranked Features Based on Correlation with Target Label:\n",
      "Fwd Seg Size Min          0.486229\n",
      "FWD Init Win Bytes        0.265631\n",
      "Bwd Init Win Bytes        0.240076\n",
      "Fwd PSH Flags             0.182089\n",
      "Fwd Segment Size Avg      0.159332\n",
      "Fwd Packet Length Mean    0.159332\n",
      "Fwd Packet Length Max     0.144930\n",
      "Fwd IAT Total             0.143751\n",
      "Flow Duration             0.142499\n",
      "Bwd IAT Total             0.137290\n",
      "Fwd Packet Length Std     0.132663\n",
      "Subflow Fwd Bytes         0.132347\n",
      "Average Packet Size       0.108640\n",
      "Packet Length Mean        0.107494\n",
      "FIN Flag Count           -0.172478\n",
      "Timestamp                -0.195448\n",
      "SYN Flag Count           -0.205988\n",
      "Name: Label, dtype: float64\n",
      "Feature Importance Table:\n",
      "                   Feature  Correlation\n",
      "0         Fwd Seg Size Min     0.486229\n",
      "1       FWD Init Win Bytes     0.265631\n",
      "2       Bwd Init Win Bytes     0.240076\n",
      "3            Fwd PSH Flags     0.182089\n",
      "4     Fwd Segment Size Avg     0.159332\n",
      "5   Fwd Packet Length Mean     0.159332\n",
      "6    Fwd Packet Length Max     0.144930\n",
      "7            Fwd IAT Total     0.143751\n",
      "8            Flow Duration     0.142499\n",
      "9            Bwd IAT Total     0.137290\n",
      "10   Fwd Packet Length Std     0.132663\n",
      "11       Subflow Fwd Bytes     0.132347\n",
      "12     Average Packet Size     0.108640\n",
      "13      Packet Length Mean     0.107494\n",
      "14          FIN Flag Count    -0.172478\n",
      "15               Timestamp    -0.195448\n",
      "16          SYN Flag Count    -0.205988\n"
     ]
    }
   ],
   "source": [
    "# Feature Correlation Analysis\n",
    "# Use selected_features from the feature selection process\n",
    "important_features = selected_features.sort_values(ascending=False)  # Sort by correlation\n",
    "\n",
    "# Print ranked features\n",
    "print(\"Ranked Features Based on Correlation with Target Label:\")\n",
    "print(important_features)\n",
    "\n",
    "# Optionally, create a DataFrame for better visualisation of correlation\n",
    "feature_importance_df = important_features.reset_index()\n",
    "feature_importance_df.columns = [\"Feature\", \"Correlation\"]\n",
    "print(\"Feature Importance Table:\")\n",
    "print(feature_importance_df)"
   ]
  },
  {
   "cell_type": "code",
   "execution_count": 31,
   "metadata": {},
   "outputs": [
    {
     "name": "stdout",
     "output_type": "stream",
     "text": [
      "Training and testing datasets created.\n"
     ]
    }
   ],
   "source": [
    "# Process 6 - Splitting the dataset.\n",
    "X = tls_traffic.drop(columns=['Label'])\n",
    "y = tls_traffic['Label']\n",
    "\n",
    "X_train, X_test, y_train, y_test = train_test_split(X, y, test_size=0.2, random_state=42, stratify=y)\n",
    "print(\"Training and testing datasets created.\")"
   ]
  },
  {
   "cell_type": "code",
   "execution_count": 32,
   "metadata": {},
   "outputs": [
    {
     "name": "stdout",
     "output_type": "stream",
     "text": [
      "Original dataset class distribution:\n",
      "0    0.25\n",
      "1    0.25\n",
      "2    0.25\n",
      "3    0.25\n",
      "Name: Label, dtype: float64\n",
      "\n",
      "Training dataset class distribution:\n",
      "1    0.25\n",
      "0    0.25\n",
      "2    0.25\n",
      "3    0.25\n",
      "Name: Label, dtype: float64\n",
      "\n",
      "Testing dataset class distribution:\n",
      "0    0.25\n",
      "3    0.25\n",
      "1    0.25\n",
      "2    0.25\n",
      "Name: Label, dtype: float64\n"
     ]
    }
   ],
   "source": [
    "# Verify class distribution in the original dataset\n",
    "print(\"Original dataset class distribution:\")\n",
    "print(y.value_counts(normalize=True))\n",
    "\n",
    "# Verify class distribution in the training set\n",
    "print(\"\\nTraining dataset class distribution:\")\n",
    "print(y_train.value_counts(normalize=True))\n",
    "\n",
    "# Verify class distribution in the testing set\n",
    "print(\"\\nTesting dataset class distribution:\")\n",
    "print(y_test.value_counts(normalize=True))"
   ]
  },
  {
   "cell_type": "code",
   "execution_count": 33,
   "metadata": {},
   "outputs": [
    {
     "name": "stdout",
     "output_type": "stream",
     "text": [
      "Number of qubits (wires) used: 16\n",
      "Quantum circuit output: [<tf.Tensor: shape=(), dtype=float64, numpy=0.0226200967533961>, <tf.Tensor: shape=(), dtype=float64, numpy=0.005998809374407832>, <tf.Tensor: shape=(), dtype=float64, numpy=0.008418992289195293>, <tf.Tensor: shape=(), dtype=float64, numpy=0.0016815945740152882>, <tf.Tensor: shape=(), dtype=float64, numpy=0.010794398388032755>, <tf.Tensor: shape=(), dtype=float64, numpy=0.0023789966430686205>, <tf.Tensor: shape=(), dtype=float64, numpy=0.015815865516796368>, <tf.Tensor: shape=(), dtype=float64, numpy=0.0026992651059163375>, <tf.Tensor: shape=(), dtype=float64, numpy=0.02559636713796365>, <tf.Tensor: shape=(), dtype=float64, numpy=0.002670094462463579>, <tf.Tensor: shape=(), dtype=float64, numpy=0.02429623272385717>, <tf.Tensor: shape=(), dtype=float64, numpy=0.002095047067764255>, <tf.Tensor: shape=(), dtype=float64, numpy=0.02917338856517321>, <tf.Tensor: shape=(), dtype=float64, numpy=0.0017350482800130296>, <tf.Tensor: shape=(), dtype=float64, numpy=0.022542840342611226>, <tf.Tensor: shape=(), dtype=float64, numpy=0.001513365473471695>]\n",
      "Quantum device and circuit defined successfully!\n"
     ]
    }
   ],
   "source": [
    "# Ensure important_features matches the input features\n",
    "important_features = selected_features.loc[\n",
    "    tls_traffic.drop(columns=[\"Label\"]).columns\n",
    "].sort_values(ascending=False)\n",
    "\n",
    "# Validate the number of important features matches num_qubits\n",
    "assert len(important_features) == X_train.shape[1], \"Number of features and feature weights mismatch!\"\n",
    "\n",
    "# Define the number of qubits based on the number of features\n",
    "num_qubits = X_train.shape[1]\n",
    "\n",
    "# Create a quantum device with the required number of qubits\n",
    "dev = qml.device(\"default.qubit\", wires=num_qubits)\n",
    "\n",
    "# Define the quantum circuit with the QNode decorator\n",
    "@qml.qnode(dev, interface=\"tf\")\n",
    "def quantum_circuit(inputs, weights):\n",
    "    # Apply feature weighting based on correlation\n",
    "    weighted_inputs = inputs * tf.constant(important_features.values, dtype=tf.float32)\n",
    "    \n",
    "    # Embed classical data into the quantum circuit using AngleEmbedding\n",
    "    qml.templates.AngleEmbedding(weighted_inputs, wires=range(num_qubits), rotation=\"Y\")\n",
    "    \n",
    "    # Apply trainable quantum layers with entanglement\n",
    "    qml.templates.BasicEntanglerLayers(weights, wires=range(num_qubits))\n",
    "    \n",
    "    # Return the expectation values of PauliZ for all qubits\n",
    "    return [qml.expval(qml.PauliZ(i)) for i in range(num_qubits)]\n",
    "\n",
    "# Debugging Output\n",
    "print(f\"Number of qubits (wires) used: {len(dev.wires)}\")\n",
    "\n",
    "# Test the quantum circuit\n",
    "inputs = tf.random.uniform((num_qubits,))\n",
    "weights = tf.random.uniform((2, num_qubits))  # Shape matches num_layers and num_qubits\n",
    "result = quantum_circuit(inputs, weights)\n",
    "\n",
    "# Print the quantum circuit output\n",
    "print(\"Quantum circuit output:\", result)\n",
    "print(\"Quantum device and circuit defined successfully!\")"
   ]
  },
  {
   "cell_type": "code",
   "execution_count": 15,
   "metadata": {},
   "outputs": [
    {
     "name": "stdout",
     "output_type": "stream",
     "text": [
      "Model configured for multiclass classification with 4 class(es).\n",
      "Model: \"sequential\"\n",
      "_________________________________________________________________\n",
      " Layer (type)                Output Shape              Param #   \n",
      "=================================================================\n",
      " quantum_layer (QuantumLayer  (None, 16)               32        \n",
      " )                                                               \n",
      "                                                                 \n",
      " flatten (Flatten)           (None, 16)                0         \n",
      "                                                                 \n",
      " dropout (Dropout)           (None, 16)                0         \n",
      "                                                                 \n",
      " dense (Dense)               (None, 4)                 68        \n",
      "                                                                 \n",
      "=================================================================\n",
      "Total params: 100\n",
      "Trainable params: 100\n",
      "Non-trainable params: 0\n",
      "_________________________________________________________________\n",
      "Hybrid Quantum-Classical model defined and compiled successfully!\n"
     ]
    }
   ],
   "source": [
    "# Define the number of qubits based on the number of features\n",
    "num_qubits = X_train.shape[1]\n",
    "\n",
    "# Create a quantum device with the required number of qubits\n",
    "dev = qml.device(\"default.qubit\", wires=num_qubits)\n",
    "\n",
    "# Define the quantum circuit with the QNode decorator\n",
    "@qml.qnode(dev, interface=\"tf\")\n",
    "def quantum_circuit(inputs, weights):\n",
    "    # Embed classical data into the quantum circuit using AngleEmbedding\n",
    "    qml.templates.AngleEmbedding(inputs, wires=range(num_qubits), rotation=\"Y\")\n",
    "    # Apply trainable quantum layers with entanglement\n",
    "    qml.templates.BasicEntanglerLayers(weights, wires=range(num_qubits))\n",
    "    # Return the expectation values of PauliZ for all qubits\n",
    "    return [qml.expval(qml.PauliZ(i)) for i in range(num_qubits)]\n",
    "\n",
    "# Define the weight shape for the quantum circuit\n",
    "num_layers = 2  # Number of layers in the quantum circuit\n",
    "weight_shape = {\"weights\": (num_layers, num_qubits)}\n",
    "\n",
    "# Create a custom Keras layer that integrates the quantum circuit\n",
    "class QuantumLayer(tf.keras.layers.Layer):\n",
    "    def __init__(self):\n",
    "        super(QuantumLayer, self).__init__()\n",
    "        # Initialize trainable weights for the quantum circuit\n",
    "        self.q_weights = self.add_weight(\n",
    "            name=\"q_weights\",\n",
    "            shape=weight_shape[\"weights\"],\n",
    "            initializer=\"glorot_uniform\",  # Use Glorot Uniform Initialiser\n",
    "            trainable=True,\n",
    "        )\n",
    "\n",
    "    def call(self, inputs):\n",
    "        # Function to execute the quantum circuit\n",
    "        @tf.autograph.experimental.do_not_convert  # Suppress AutoGraph warnings here\n",
    "        def circuit_execution(input_sample):\n",
    "            # Call the quantum circuit\n",
    "            result = quantum_circuit(input_sample, self.q_weights)\n",
    "            # Ensure the output is converted to the correct dtype\n",
    "            result = tf.cast(result, dtype=tf.float32)\n",
    "            return result\n",
    "\n",
    "        # Apply the quantum circuit to each input sample in the batch\n",
    "        outputs = tf.map_fn(\n",
    "            circuit_execution, inputs, fn_output_signature=tf.float32\n",
    "        )\n",
    "        return outputs\n",
    "\n",
    "    def compute_output_shape(self, input_shape):\n",
    "        # The output shape matches the number of qubits\n",
    "        return (input_shape[0], num_qubits)\n",
    "\n",
    "# Define the hybrid Quantum-Classical model\n",
    "def create_hybrid_model(num_classes=1):\n",
    "    model = tf.keras.Sequential([\n",
    "        tf.keras.Input(shape=(num_qubits,)),  # Input layer matching the number of features\n",
    "        QuantumLayer(),                      # Quantum layer for feature extraction\n",
    "        tf.keras.layers.Flatten(),           # Flatten the output of the quantum layer\n",
    "        tf.keras.layers.Dropout(0.3 if num_classes > 1 else 0.2),  # Adjust dropout dynamically\n",
    "        tf.keras.layers.Dense(num_classes, activation=\"softmax\" if num_classes > 1 else \"sigmoid\"),  # Output layer\n",
    "    ])\n",
    "    return model\n",
    "\n",
    "# Create the model\n",
    "num_classes = 4  # Change to 1 for binary classification or >1 for multiclass\n",
    "hybrid_model = create_hybrid_model(num_classes=num_classes)\n",
    "\n",
    "# Log configuration\n",
    "print(f\"Model configured for {'binary' if num_classes == 1 else 'multiclass'} classification with {num_classes} class(es).\")\n",
    "\n",
    "# Print the model summary\n",
    "hybrid_model.summary()\n",
    "\n",
    "# Compile the model\n",
    "hybrid_model.compile(\n",
    "    optimizer=tf.keras.optimizers.Adam(learning_rate=0.001),  # Adam optimizer\n",
    "    loss=\"categorical_crossentropy\" if num_classes > 1 else \"binary_crossentropy\",  # Loss based on the number of classes\n",
    "    metrics=[\"accuracy\"]\n",
    ")\n",
    "\n",
    "# Print confirmation\n",
    "print(\"Hybrid Quantum-Classical model defined and compiled successfully!\")"
   ]
  },
  {
   "cell_type": "code",
   "execution_count": 16,
   "metadata": {},
   "outputs": [
    {
     "name": "stdout",
     "output_type": "stream",
     "text": [
      "Model compiled successfully!\n"
     ]
    }
   ],
   "source": [
    "# Convert target labels to one-hot encoding\n",
    "y_train_one_hot = to_categorical(y_train, num_classes=4)  # Convert training labels\n",
    "y_test_one_hot = to_categorical(y_test, num_classes=4)    # Convert testing labels\n",
    "\n",
    "# Compile the model with categorical crossentropy\n",
    "hybrid_model.compile(\n",
    "    optimizer=tf.keras.optimizers.Adam(learning_rate=0.001),  # Adam optimizer with learning rate\n",
    "    loss=\"categorical_crossentropy\",  # Use categorical crossentropy for one-hot labels\n",
    "    metrics=[\n",
    "        \"accuracy\", \n",
    "        tf.keras.metrics.Precision(name=\"precision\"),  # Track precision\n",
    "        tf.keras.metrics.Recall(name=\"recall\"),        # Track recall\n",
    "    ]\n",
    ")\n",
    "print(\"Model compiled successfully!\")\n"
   ]
  },
  {
   "cell_type": "code",
   "execution_count": 17,
   "metadata": {},
   "outputs": [
    {
     "name": "stdout",
     "output_type": "stream",
     "text": [
      "Shape of y_train_one_hot: (36464, 4)\n",
      "Shape of y_test_one_hot: (9116, 4)\n",
      "Number of training samples: 36464\n",
      "Number of testing samples: 9116\n",
      "Number of classes: 4\n",
      "Validation of one-hot encoding shapes completed successfully!\n"
     ]
    }
   ],
   "source": [
    "# Validate the shape of the one-hot encoded labels\n",
    "print(\"Shape of y_train_one_hot:\", y_train_one_hot.shape)  # Should be (number of training samples, num_classes)\n",
    "print(\"Shape of y_test_one_hot:\", y_test_one_hot.shape)    # Should be (number of testing samples, num_classes)\n",
    "\n",
    "# Ensure the number of classes matches the one-hot encoded dimensions\n",
    "num_training_samples, num_classes_train = y_train_one_hot.shape\n",
    "num_testing_samples, num_classes_test = y_test_one_hot.shape\n",
    "\n",
    "assert num_classes_train == 4, \"Mismatch in the number of training classes!\"\n",
    "assert num_classes_test == 4, \"Mismatch in the number of testing classes!\"\n",
    "\n",
    "print(\"Number of training samples:\", num_training_samples)\n",
    "print(\"Number of testing samples:\", num_testing_samples)\n",
    "print(\"Number of classes:\", num_classes_train)\n",
    "\n",
    "print(\"Validation of one-hot encoding shapes completed successfully!\")"
   ]
  },
  {
   "cell_type": "code",
   "execution_count": 18,
   "metadata": {},
   "outputs": [],
   "source": [
    "# Define callbacks\n",
    "early_stopping = tf.keras.callbacks.EarlyStopping(\n",
    "    monitor=\"val_loss\", patience=5, restore_best_weights=True\n",
    ")\n",
    "checkpoint = tf.keras.callbacks.ModelCheckpoint(\n",
    "    \"best_model.keras\",  # Save the best model based on validation loss\n",
    "    monitor=\"val_loss\",\n",
    "    save_best_only=True,\n",
    "    verbose=1\n",
    ")\n",
    "lr_scheduler = tf.keras.callbacks.ReduceLROnPlateau(\n",
    "    monitor=\"val_loss\", factor=0.5, patience=3, verbose=1\n",
    ")\n",
    "tensorboard = tf.keras.callbacks.TensorBoard(log_dir=\"./logs\", histogram_freq=1)\n",
    "\n",
    "# Optional: Learning Rate Warmup\n",
    "lr_warmup = tf.keras.callbacks.LearningRateScheduler(\n",
    "    lambda epoch: 0.001 * (epoch + 1) if epoch < 5 else 0.001\n",
    ")\n",
    "\n",
    "# Train the model\n",
    "history = hybrid_model.fit(\n",
    "    X_train,\n",
    "    y_train_one_hot,  # Use one-hot encoded training labels\n",
    "    epochs=50,        # Number of training epochs\n",
    "    batch_size=32,    # Batch size\n",
    "    validation_split=0.2,  # Use 20% of the training data for validation\n",
    "    verbose=1,  # Display training progress\n",
    "    callbacks=[early_stopping, checkpoint, lr_scheduler, tensorboard, lr_warmup]  # Add callbacks\n",
    ")\n",
    "\n",
    "print(\"Model training complete!\")\n",
    "\n",
    "# Plot training and validation accuracy\n",
    "import matplotlib.pyplot as plt\n",
    "\n",
    "plt.figure(figsize=(10, 6))\n",
    "plt.plot(history.history['accuracy'], label='Training Accuracy')\n",
    "plt.plot(history.history['val_accuracy'], label='Validation Accuracy')\n",
    "plt.xlabel('Epochs')\n",
    "plt.ylabel('Accuracy')\n",
    "plt.title('Training and Validation Accuracy Over Epochs')\n",
    "plt.legend()\n",
    "plt.grid()\n",
    "plt.show()\n",
    "\n",
    "# Plot training and validation loss\n",
    "plt.figure(figsize=(10, 6))\n",
    "plt.plot(history.history['loss'], label='Training Loss')\n",
    "plt.plot(history.history['val_loss'], label='Validation Loss')\n",
    "plt.xlabel('Epochs')\n",
    "plt.ylabel('Loss')\n",
    "plt.title('Training and Validation Loss Over Epochs')\n",
    "plt.legend()\n",
    "plt.grid()\n",
    "plt.show()"
   ]
  }
 ],
 "metadata": {
  "kernelspec": {
   "display_name": "Python 3",
   "language": "python",
   "name": "python3"
  },
  "language_info": {
   "codemirror_mode": {
    "name": "ipython",
    "version": 3
   },
   "file_extension": ".py",
   "mimetype": "text/x-python",
   "name": "python",
   "nbconvert_exporter": "python",
   "pygments_lexer": "ipython3",
   "version": "3.10.11"
  }
 },
 "nbformat": 4,
 "nbformat_minor": 2
}
