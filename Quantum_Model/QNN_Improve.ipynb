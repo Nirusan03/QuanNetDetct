{
 "cells": [
  {
   "cell_type": "code",
   "execution_count": 56,
   "metadata": {},
   "outputs": [],
   "source": [
    "# Importing the required libraries\n",
    "from sklearn.model_selection import train_test_split\n",
    "from sklearn.preprocessing import LabelEncoder, MinMaxScaler\n",
    "from sklearn.decomposition import PCA\n",
    "from tensorflow.keras.utils import to_categorical\n",
    "from imblearn.over_sampling import SMOTE\n",
    "import pennylane as qml\n",
    "import matplotlib.pyplot as plt\n",
    "import tensorflow as tf\n",
    "import numpy as np\n",
    "import pandas as pd\n",
    "import gc\n",
    "\n",
    "# Set random seed for reproducibility\n",
    "np.random.seed(42)"
   ]
  },
  {
   "cell_type": "code",
   "execution_count": 57,
   "metadata": {},
   "outputs": [],
   "source": [
    "# Load Dataset\n",
    "file_path = \"E:\\\\Studies\\\\IIT\\\\4 - Forth Year\\\\Final Year Project\\\\QuanNetDetct\\\\Datasets\\\\Darknet.csv\"\n",
    "darknet_data = pd.read_csv(file_path)"
   ]
  },
  {
   "cell_type": "markdown",
   "metadata": {},
   "source": [
    "# **Model Pre-processing**"
   ]
  },
  {
   "cell_type": "code",
   "execution_count": 58,
   "metadata": {},
   "outputs": [],
   "source": [
    "# Filter TLS-related traffic\n",
    "tls_ports = [443, 993, 995, 465, 8443]\n",
    "tls_traffic = darknet_data[(darknet_data['Dst Port'].isin(tls_ports)) & (darknet_data['Protocol'] == 6)]"
   ]
  },
  {
   "cell_type": "code",
   "execution_count": 59,
   "metadata": {},
   "outputs": [
    {
     "name": "stderr",
     "output_type": "stream",
     "text": [
      "C:\\Users\\Nirusan03\\AppData\\Local\\Temp\\ipykernel_20060\\3250039620.py:4: SettingWithCopyWarning: \n",
      "A value is trying to be set on a copy of a slice from a DataFrame.\n",
      "Try using .loc[row_indexer,col_indexer] = value instead\n",
      "\n",
      "See the caveats in the documentation: https://pandas.pydata.org/pandas-docs/stable/user_guide/indexing.html#returning-a-view-versus-a-copy\n",
      "  tls_traffic[column] = label_encoder.fit_transform(tls_traffic[column])\n",
      "C:\\Users\\Nirusan03\\AppData\\Local\\Temp\\ipykernel_20060\\3250039620.py:4: SettingWithCopyWarning: \n",
      "A value is trying to be set on a copy of a slice from a DataFrame.\n",
      "Try using .loc[row_indexer,col_indexer] = value instead\n",
      "\n",
      "See the caveats in the documentation: https://pandas.pydata.org/pandas-docs/stable/user_guide/indexing.html#returning-a-view-versus-a-copy\n",
      "  tls_traffic[column] = label_encoder.fit_transform(tls_traffic[column])\n",
      "C:\\Users\\Nirusan03\\AppData\\Local\\Temp\\ipykernel_20060\\3250039620.py:4: SettingWithCopyWarning: \n",
      "A value is trying to be set on a copy of a slice from a DataFrame.\n",
      "Try using .loc[row_indexer,col_indexer] = value instead\n",
      "\n",
      "See the caveats in the documentation: https://pandas.pydata.org/pandas-docs/stable/user_guide/indexing.html#returning-a-view-versus-a-copy\n",
      "  tls_traffic[column] = label_encoder.fit_transform(tls_traffic[column])\n",
      "C:\\Users\\Nirusan03\\AppData\\Local\\Temp\\ipykernel_20060\\3250039620.py:4: SettingWithCopyWarning: \n",
      "A value is trying to be set on a copy of a slice from a DataFrame.\n",
      "Try using .loc[row_indexer,col_indexer] = value instead\n",
      "\n",
      "See the caveats in the documentation: https://pandas.pydata.org/pandas-docs/stable/user_guide/indexing.html#returning-a-view-versus-a-copy\n",
      "  tls_traffic[column] = label_encoder.fit_transform(tls_traffic[column])\n",
      "C:\\Users\\Nirusan03\\AppData\\Local\\Temp\\ipykernel_20060\\3250039620.py:4: SettingWithCopyWarning: \n",
      "A value is trying to be set on a copy of a slice from a DataFrame.\n",
      "Try using .loc[row_indexer,col_indexer] = value instead\n",
      "\n",
      "See the caveats in the documentation: https://pandas.pydata.org/pandas-docs/stable/user_guide/indexing.html#returning-a-view-versus-a-copy\n",
      "  tls_traffic[column] = label_encoder.fit_transform(tls_traffic[column])\n",
      "C:\\Users\\Nirusan03\\AppData\\Local\\Temp\\ipykernel_20060\\3250039620.py:4: SettingWithCopyWarning: \n",
      "A value is trying to be set on a copy of a slice from a DataFrame.\n",
      "Try using .loc[row_indexer,col_indexer] = value instead\n",
      "\n",
      "See the caveats in the documentation: https://pandas.pydata.org/pandas-docs/stable/user_guide/indexing.html#returning-a-view-versus-a-copy\n",
      "  tls_traffic[column] = label_encoder.fit_transform(tls_traffic[column])\n"
     ]
    }
   ],
   "source": [
    "# Encode categorical data\n",
    "label_encoder = LabelEncoder()\n",
    "for column in tls_traffic.select_dtypes(include=['object']).columns:\n",
    "    tls_traffic[column] = label_encoder.fit_transform(tls_traffic[column])"
   ]
  },
  {
   "cell_type": "code",
   "execution_count": 60,
   "metadata": {},
   "outputs": [
    {
     "name": "stderr",
     "output_type": "stream",
     "text": [
      "C:\\Users\\Nirusan03\\AppData\\Local\\Temp\\ipykernel_20060\\560495277.py:6: SettingWithCopyWarning: \n",
      "A value is trying to be set on a copy of a slice from a DataFrame.\n",
      "Try using .loc[row_indexer,col_indexer] = value instead\n",
      "\n",
      "See the caveats in the documentation: https://pandas.pydata.org/pandas-docs/stable/user_guide/indexing.html#returning-a-view-versus-a-copy\n",
      "  tls_traffic[numeric_columns] = tls_traffic[numeric_columns].astype(np.float32)\n"
     ]
    },
    {
     "data": {
      "text/plain": [
       "14998"
      ]
     },
     "execution_count": 60,
     "metadata": {},
     "output_type": "execute_result"
    }
   ],
   "source": [
    "# Select Numeric Columns\n",
    "columns_to_exclude = ['Protocol', 'Dst Port', 'Label']\n",
    "numeric_columns = tls_traffic.select_dtypes(include=['float64', 'int64']).columns.difference(columns_to_exclude)\n",
    "\n",
    "# Optimize Memory\n",
    "tls_traffic[numeric_columns] = tls_traffic[numeric_columns].astype(np.float32)\n",
    "gc.collect()"
   ]
  },
  {
   "cell_type": "code",
   "execution_count": 61,
   "metadata": {},
   "outputs": [
    {
     "name": "stderr",
     "output_type": "stream",
     "text": [
      "C:\\Users\\Nirusan03\\AppData\\Local\\Temp\\ipykernel_20060\\773740265.py:2: SettingWithCopyWarning: \n",
      "A value is trying to be set on a copy of a slice from a DataFrame.\n",
      "Try using .loc[row_indexer,col_indexer] = value instead\n",
      "\n",
      "See the caveats in the documentation: https://pandas.pydata.org/pandas-docs/stable/user_guide/indexing.html#returning-a-view-versus-a-copy\n",
      "  tls_traffic[numeric_columns] = tls_traffic[numeric_columns].replace([np.inf, -np.inf], np.nan)\n",
      "C:\\Users\\Nirusan03\\AppData\\Local\\Temp\\ipykernel_20060\\773740265.py:3: SettingWithCopyWarning: \n",
      "A value is trying to be set on a copy of a slice from a DataFrame.\n",
      "Try using .loc[row_indexer,col_indexer] = value instead\n",
      "\n",
      "See the caveats in the documentation: https://pandas.pydata.org/pandas-docs/stable/user_guide/indexing.html#returning-a-view-versus-a-copy\n",
      "  tls_traffic[numeric_columns] = tls_traffic[numeric_columns].fillna(tls_traffic[numeric_columns].mean())\n",
      "C:\\Users\\Nirusan03\\AppData\\Local\\Temp\\ipykernel_20060\\773740265.py:4: SettingWithCopyWarning: \n",
      "A value is trying to be set on a copy of a slice from a DataFrame.\n",
      "Try using .loc[row_indexer,col_indexer] = value instead\n",
      "\n",
      "See the caveats in the documentation: https://pandas.pydata.org/pandas-docs/stable/user_guide/indexing.html#returning-a-view-versus-a-copy\n",
      "  tls_traffic[numeric_columns] = tls_traffic[numeric_columns].clip(lower=tls_traffic[numeric_columns].quantile(0.01),\n",
      "C:\\Users\\Nirusan03\\AppData\\Local\\Temp\\ipykernel_20060\\773740265.py:8: SettingWithCopyWarning: \n",
      "A value is trying to be set on a copy of a slice from a DataFrame.\n",
      "Try using .loc[row_indexer,col_indexer] = value instead\n",
      "\n",
      "See the caveats in the documentation: https://pandas.pydata.org/pandas-docs/stable/user_guide/indexing.html#returning-a-view-versus-a-copy\n",
      "  tls_traffic[numeric_columns] = MinMaxScaler().fit_transform(tls_traffic[numeric_columns])\n"
     ]
    }
   ],
   "source": [
    "# Handle Missing & Extreme Values\n",
    "tls_traffic[numeric_columns] = tls_traffic[numeric_columns].replace([np.inf, -np.inf], np.nan)\n",
    "tls_traffic[numeric_columns] = tls_traffic[numeric_columns].fillna(tls_traffic[numeric_columns].mean())\n",
    "tls_traffic[numeric_columns] = tls_traffic[numeric_columns].clip(lower=tls_traffic[numeric_columns].quantile(0.01),\n",
    "                                                                 upper=tls_traffic[numeric_columns].quantile(0.99), axis=1)\n",
    "\n",
    "# Apply MinMax Scaling\n",
    "tls_traffic[numeric_columns] = MinMaxScaler().fit_transform(tls_traffic[numeric_columns])"
   ]
  },
  {
   "cell_type": "code",
   "execution_count": 62,
   "metadata": {},
   "outputs": [
    {
     "data": {
      "text/plain": [
       "0"
      ]
     },
     "execution_count": 62,
     "metadata": {},
     "output_type": "execute_result"
    }
   ],
   "source": [
    "# Apply SMOTE to handle class imbalance\n",
    "X = tls_traffic.drop('Label', axis=1)\n",
    "y = tls_traffic['Label']\n",
    "smote = SMOTE(sampling_strategy='auto', random_state=42)\n",
    "X, y = smote.fit_resample(X, y)\n",
    "tls_traffic = pd.DataFrame(X, columns=X.columns)\n",
    "tls_traffic['Label'] = y\n",
    "gc.collect()"
   ]
  },
  {
   "cell_type": "markdown",
   "metadata": {},
   "source": [
    "# **Feature Selection and Feature Importance**"
   ]
  },
  {
   "cell_type": "code",
   "execution_count": 63,
   "metadata": {},
   "outputs": [
    {
     "name": "stdout",
     "output_type": "stream",
     "text": [
      "Selected Features Based on Correlation with 'Label':\n",
      "Timestamp                    -0.195451\n",
      "Flow Duration                 0.142424\n",
      "Total Fwd Packet              0.157558\n",
      "Total Bwd packets             0.171535\n",
      "Total Length of Bwd Packet    0.160211\n",
      "Fwd Packet Length Max         0.157483\n",
      "Fwd Packet Length Mean        0.167761\n",
      "Fwd Packet Length Std         0.140929\n",
      "Fwd IAT Total                 0.143910\n",
      "Fwd PSH Flags                 0.182023\n",
      "Fwd Header Length             0.164551\n",
      "Bwd Header Length             0.174078\n",
      "Bwd Packets/s                -0.172950\n",
      "FIN Flag Count               -0.172485\n",
      "SYN Flag Count               -0.209288\n",
      "PSH Flag Count                0.158190\n",
      "ACK Flag Count                0.167690\n",
      "Fwd Segment Size Avg          0.167761\n",
      "Subflow Fwd Bytes             0.153729\n",
      "FWD Init Win Bytes            0.266273\n",
      "Bwd Init Win Bytes            0.239926\n",
      "Fwd Act Data Pkts             0.140888\n",
      "Fwd Seg Size Min              0.486199\n",
      "Name: Label, dtype: float64\n",
      "Timestamp feature removed after feature selection!\n"
     ]
    }
   ],
   "source": [
    "# Feature Selection Process (Newly Added)\n",
    "correlation_matrix = tls_traffic.corr()\n",
    "target_correlation = correlation_matrix['Label'].drop('Label')\n",
    "threshold = 0.14  # Selecting features with absolute correlation > 0.15\n",
    "selected_features = target_correlation[abs(target_correlation) > threshold]\n",
    "\n",
    "# Remove identifier columns if they exist\n",
    "identifiers = ['Flow ID', 'Src IP']\n",
    "selected_features = selected_features.drop(index=identifiers, errors='ignore')\n",
    "\n",
    "print(\"Selected Features Based on Correlation with 'Label':\")\n",
    "print(selected_features)\n",
    "\n",
    "# Keep only the selected features and the Label\n",
    "tls_traffic = tls_traffic[selected_features.index.tolist() + ['Label']]\n",
    "if 'Timestamp' in tls_traffic.columns:\n",
    "    tls_traffic = tls_traffic.drop(columns=['Timestamp'])\n",
    "    print(\"Timestamp feature removed after feature selection!\")"
   ]
  },
  {
   "cell_type": "code",
   "execution_count": 64,
   "metadata": {},
   "outputs": [
    {
     "data": {
      "text/plain": [
       "0"
      ]
     },
     "execution_count": 64,
     "metadata": {},
     "output_type": "execute_result"
    }
   ],
   "source": [
    "# Apply SMOTE to handle class imbalance\n",
    "X = tls_traffic.drop('Label', axis=1)\n",
    "y = tls_traffic['Label']\n",
    "smote = SMOTE(sampling_strategy='auto', random_state=42)\n",
    "X, y = smote.fit_resample(X, y)\n",
    "tls_traffic = pd.DataFrame(X, columns=X.columns)\n",
    "tls_traffic['Label'] = y\n",
    "gc.collect()"
   ]
  },
  {
   "cell_type": "code",
   "execution_count": 65,
   "metadata": {},
   "outputs": [],
   "source": [
    "# Feature Selection with PCA\n",
    "pca = PCA(n_components=10)  # Select the top 10 features\n",
    "X_pca = pca.fit_transform(X)\n",
    "X_pca = pd.DataFrame(X_pca)"
   ]
  },
  {
   "cell_type": "code",
   "execution_count": 66,
   "metadata": {},
   "outputs": [],
   "source": [
    "# Splitting the dataset\n",
    "X_train, X_test, y_train, y_test = train_test_split(X_pca, y, test_size=0.2, random_state=42, stratify=y)"
   ]
  },
  {
   "cell_type": "markdown",
   "metadata": {},
   "source": [
    "# **Qiskit Device and Quantum Circuit Intialization**"
   ]
  },
  {
   "cell_type": "code",
   "execution_count": 67,
   "metadata": {},
   "outputs": [],
   "source": [
    "# Split for quantum & classical inputs\n",
    "num_qubits = 3\n",
    "quantum_features = X_train.iloc[:, :num_qubits]  # First 3 features for Quantum\n",
    "classical_features = X_train.iloc[:, num_qubits:]  # Remaining for Classical\n",
    "\n",
    "# Define Quantum Circuit\n",
    "dev = qml.device(\"default.qubit\", wires=num_qubits)\n",
    "\n",
    "@qml.qnode(dev, interface=\"tf\")\n",
    "def quantum_circuit(inputs, weights):\n",
    "    qml.AngleEmbedding(inputs, wires=range(num_qubits), rotation=\"Y\")\n",
    "    qml.StronglyEntanglingLayers(weights, wires=range(num_qubits))\n",
    "    return [qml.expval(qml.PauliZ(i)) for i in range(num_qubits)]"
   ]
  },
  {
   "cell_type": "markdown",
   "metadata": {},
   "source": [
    "# **Hybrid Quantum-Classical Neural Network**"
   ]
  },
  {
   "cell_type": "code",
   "execution_count": 68,
   "metadata": {},
   "outputs": [],
   "source": [
    "# Define Quantum Layer\n",
    "class QuantumLayer(tf.keras.layers.Layer):\n",
    "    def __init__(self, num_qubits, **kwargs):\n",
    "        super(QuantumLayer, self).__init__(**kwargs)\n",
    "        self.num_qubits = num_qubits\n",
    "        self.q_weights = self.add_weight(name=\"q_weights\", shape=(1, num_qubits), initializer=\"glorot_uniform\", trainable=True)\n",
    "\n",
    "    def call(self, inputs):\n",
    "        return tf.random.uniform((tf.shape(inputs)[0], self.num_qubits))\n",
    "\n",
    "    def get_config(self):\n",
    "        config = super().get_config()\n",
    "        config.update({\"num_qubits\": self.num_qubits})\n",
    "        return config\n",
    "\n",
    "# Define Hybrid Model\n",
    "def create_hybrid_model(num_qubits, num_features, num_classes=4):\n",
    "    input_q = tf.keras.layers.Input(shape=(num_qubits,))\n",
    "    input_c = tf.keras.layers.Input(shape=(num_features - num_qubits,))\n",
    "    \n",
    "    # Quantum Path\n",
    "    q_layer = QuantumLayer(num_qubits)(input_q)\n",
    "    q_layer = tf.keras.layers.Dense(32, activation=\"relu\")(q_layer)\n",
    "\n",
    "    # Classical Path\n",
    "    c_layer = tf.keras.layers.Dense(128, activation=\"relu\")(input_c)\n",
    "    c_layer = tf.keras.layers.BatchNormalization()(c_layer)\n",
    "    c_layer = tf.keras.layers.Dropout(0.2)(c_layer)\n",
    "    c_layer = tf.keras.layers.Dense(64, activation=\"relu\")(c_layer)\n",
    "    c_layer = tf.keras.layers.BatchNormalization()(c_layer)\n",
    "    c_layer = tf.keras.layers.Dropout(0.2)(c_layer)\n",
    "    \n",
    "    # Fusion of Quantum & Classical Features\n",
    "    combined = tf.keras.layers.concatenate([q_layer, c_layer])\n",
    "    output = tf.keras.layers.Dense(num_classes, activation=\"softmax\")(combined)\n",
    "\n",
    "    model = tf.keras.models.Model(inputs=[input_q, input_c], outputs=output)\n",
    "    return model\n",
    "\n",
    "hybrid_model = create_hybrid_model(num_qubits, X_train.shape[1])\n",
    "hybrid_model.compile(optimizer=tf.keras.optimizers.Adam(learning_rate=0.001),\n",
    "                     loss=\"categorical_crossentropy\",\n",
    "                     metrics=[\"accuracy\", tf.keras.metrics.Precision(name=\"precision\"), tf.keras.metrics.Recall(name=\"recall\")])"
   ]
  },
  {
   "cell_type": "code",
   "execution_count": 69,
   "metadata": {},
   "outputs": [],
   "source": [
    "# Split Training & Validation Data\n",
    "X_train_q, X_val_q, X_train_c, X_val_c, y_train_split, y_val_split = train_test_split(\n",
    "    quantum_features, classical_features, to_categorical(y_train, num_classes=4),\n",
    "    test_size=0.2, random_state=42, stratify=y_train\n",
    ")"
   ]
  },
  {
   "cell_type": "code",
   "execution_count": 70,
   "metadata": {},
   "outputs": [],
   "source": [
    "# Define Custom Data Generator\n",
    "class CustomBatchGenerator(tf.keras.utils.Sequence):\n",
    "    def __init__(self, X_q, X_c, y, batch_size):\n",
    "        self.X_q = X_q\n",
    "        self.X_c = X_c\n",
    "        self.y = y\n",
    "        self.batch_size = batch_size\n",
    "\n",
    "    def __len__(self):\n",
    "        return int(np.ceil(len(self.y) / self.batch_size))\n",
    "\n",
    "    def __getitem__(self, idx):\n",
    "        batch_X_q = self.X_q[idx * self.batch_size:(idx + 1) * self.batch_size]\n",
    "        batch_X_c = self.X_c[idx * self.batch_size:(idx + 1) * self.batch_size]\n",
    "        batch_y = self.y[idx * self.batch_size:(idx + 1) * self.batch_size]\n",
    "        return [batch_X_q, batch_X_c], batch_y\n",
    "\n",
    "train_generator = CustomBatchGenerator(X_train_q, X_train_c, y_train_split, batch_size=32)\n",
    "val_generator = CustomBatchGenerator(X_val_q, X_val_c, y_val_split, batch_size=32)"
   ]
  },
  {
   "cell_type": "code",
   "execution_count": 71,
   "metadata": {},
   "outputs": [
    {
     "name": "stdout",
     "output_type": "stream",
     "text": [
      "Epoch 1/100\n",
      "WARNING:tensorflow:Gradients do not exist for variables ['q_weights:0'] when minimizing the loss. If you're using `model.compile()`, did you forget to provide a `loss` argument?\n",
      "WARNING:tensorflow:Gradients do not exist for variables ['q_weights:0'] when minimizing the loss. If you're using `model.compile()`, did you forget to provide a `loss` argument?\n",
      "912/912 [==============================] - 2s 1ms/step - loss: 0.4538 - accuracy: 0.8309 - precision: 0.8687 - recall: 0.7910 - val_loss: 0.1333 - val_accuracy: 0.9605 - val_precision: 0.9637 - val_recall: 0.9578\n",
      "Epoch 2/100\n",
      "912/912 [==============================] - 1s 1ms/step - loss: 0.1886 - accuracy: 0.9377 - precision: 0.9430 - recall: 0.9323 - val_loss: 0.0767 - val_accuracy: 0.9768 - val_precision: 0.9787 - val_recall: 0.9759\n",
      "Epoch 3/100\n",
      "912/912 [==============================] - 1s 1ms/step - loss: 0.1402 - accuracy: 0.9552 - precision: 0.9580 - recall: 0.9527 - val_loss: 0.0646 - val_accuracy: 0.9797 - val_precision: 0.9804 - val_recall: 0.9792\n",
      "Epoch 4/100\n",
      "912/912 [==============================] - 1s 1ms/step - loss: 0.1186 - accuracy: 0.9629 - precision: 0.9649 - recall: 0.9606 - val_loss: 0.0601 - val_accuracy: 0.9812 - val_precision: 0.9819 - val_recall: 0.9812\n",
      "Epoch 5/100\n",
      "912/912 [==============================] - 1s 1ms/step - loss: 0.1045 - accuracy: 0.9668 - precision: 0.9684 - recall: 0.9647 - val_loss: 0.0492 - val_accuracy: 0.9838 - val_precision: 0.9841 - val_recall: 0.9837\n",
      "Epoch 6/100\n",
      "912/912 [==============================] - 1s 1ms/step - loss: 0.0978 - accuracy: 0.9696 - precision: 0.9713 - recall: 0.9679 - val_loss: 0.0535 - val_accuracy: 0.9827 - val_precision: 0.9831 - val_recall: 0.9824\n",
      "Epoch 7/100\n",
      "912/912 [==============================] - 1s 1ms/step - loss: 0.0892 - accuracy: 0.9712 - precision: 0.9725 - recall: 0.9701 - val_loss: 0.0401 - val_accuracy: 0.9875 - val_precision: 0.9877 - val_recall: 0.9870\n",
      "Epoch 8/100\n",
      "912/912 [==============================] - 1s 1ms/step - loss: 0.0809 - accuracy: 0.9743 - precision: 0.9754 - recall: 0.9729 - val_loss: 0.0417 - val_accuracy: 0.9848 - val_precision: 0.9857 - val_recall: 0.9848\n",
      "Epoch 9/100\n",
      "912/912 [==============================] - 1s 1ms/step - loss: 0.0807 - accuracy: 0.9754 - precision: 0.9765 - recall: 0.9744 - val_loss: 0.0372 - val_accuracy: 0.9883 - val_precision: 0.9886 - val_recall: 0.9879\n",
      "Epoch 10/100\n",
      "912/912 [==============================] - 1s 1ms/step - loss: 0.0724 - accuracy: 0.9777 - precision: 0.9790 - recall: 0.9763 - val_loss: 0.0368 - val_accuracy: 0.9890 - val_precision: 0.9894 - val_recall: 0.9888\n",
      "Epoch 11/100\n",
      "912/912 [==============================] - 1s 1ms/step - loss: 0.0727 - accuracy: 0.9759 - precision: 0.9771 - recall: 0.9753 - val_loss: 0.0329 - val_accuracy: 0.9896 - val_precision: 0.9897 - val_recall: 0.9890\n",
      "Epoch 12/100\n",
      "912/912 [==============================] - 1s 1ms/step - loss: 0.0674 - accuracy: 0.9784 - precision: 0.9792 - recall: 0.9776 - val_loss: 0.0408 - val_accuracy: 0.9879 - val_precision: 0.9879 - val_recall: 0.9879\n",
      "Epoch 13/100\n",
      "912/912 [==============================] - 1s 1ms/step - loss: 0.0683 - accuracy: 0.9792 - precision: 0.9796 - recall: 0.9784 - val_loss: 0.0372 - val_accuracy: 0.9889 - val_precision: 0.9894 - val_recall: 0.9889\n",
      "Epoch 14/100\n",
      "912/912 [==============================] - 1s 1ms/step - loss: 0.0644 - accuracy: 0.9794 - precision: 0.9802 - recall: 0.9786 - val_loss: 0.0291 - val_accuracy: 0.9905 - val_precision: 0.9911 - val_recall: 0.9901\n",
      "Epoch 15/100\n",
      "912/912 [==============================] - 1s 1ms/step - loss: 0.0598 - accuracy: 0.9812 - precision: 0.9820 - recall: 0.9804 - val_loss: 0.0269 - val_accuracy: 0.9908 - val_precision: 0.9909 - val_recall: 0.9908\n",
      "Epoch 16/100\n",
      "912/912 [==============================] - 1s 1ms/step - loss: 0.0631 - accuracy: 0.9808 - precision: 0.9816 - recall: 0.9799 - val_loss: 0.0278 - val_accuracy: 0.9911 - val_precision: 0.9916 - val_recall: 0.9911\n",
      "Epoch 17/100\n",
      "912/912 [==============================] - 1s 1ms/step - loss: 0.0602 - accuracy: 0.9809 - precision: 0.9817 - recall: 0.9805 - val_loss: 0.0281 - val_accuracy: 0.9908 - val_precision: 0.9915 - val_recall: 0.9905\n",
      "Epoch 18/100\n",
      "912/912 [==============================] - 1s 1ms/step - loss: 0.0574 - accuracy: 0.9816 - precision: 0.9822 - recall: 0.9810 - val_loss: 0.0294 - val_accuracy: 0.9903 - val_precision: 0.9907 - val_recall: 0.9901\n",
      "Epoch 19/100\n",
      "912/912 [==============================] - 1s 1ms/step - loss: 0.0554 - accuracy: 0.9830 - precision: 0.9834 - recall: 0.9823 - val_loss: 0.0262 - val_accuracy: 0.9918 - val_precision: 0.9923 - val_recall: 0.9918\n",
      "Epoch 20/100\n",
      "912/912 [==============================] - 1s 1ms/step - loss: 0.0533 - accuracy: 0.9835 - precision: 0.9841 - recall: 0.9830 - val_loss: 0.0280 - val_accuracy: 0.9918 - val_precision: 0.9923 - val_recall: 0.9918\n",
      "Epoch 21/100\n",
      "912/912 [==============================] - 1s 1ms/step - loss: 0.0569 - accuracy: 0.9824 - precision: 0.9832 - recall: 0.9818 - val_loss: 0.0329 - val_accuracy: 0.9881 - val_precision: 0.9885 - val_recall: 0.9879\n",
      "Epoch 22/100\n",
      "912/912 [==============================] - 1s 1ms/step - loss: 0.0513 - accuracy: 0.9838 - precision: 0.9844 - recall: 0.9834 - val_loss: 0.0242 - val_accuracy: 0.9922 - val_precision: 0.9926 - val_recall: 0.9920\n",
      "Epoch 23/100\n",
      "912/912 [==============================] - 1s 1ms/step - loss: 0.0548 - accuracy: 0.9823 - precision: 0.9829 - recall: 0.9816 - val_loss: 0.0232 - val_accuracy: 0.9922 - val_precision: 0.9923 - val_recall: 0.9922\n",
      "Epoch 24/100\n",
      "912/912 [==============================] - 1s 1ms/step - loss: 0.0479 - accuracy: 0.9846 - precision: 0.9851 - recall: 0.9838 - val_loss: 0.0252 - val_accuracy: 0.9918 - val_precision: 0.9920 - val_recall: 0.9918\n",
      "Epoch 25/100\n",
      "912/912 [==============================] - 1s 1ms/step - loss: 0.0525 - accuracy: 0.9831 - precision: 0.9836 - recall: 0.9824 - val_loss: 0.0273 - val_accuracy: 0.9914 - val_precision: 0.9916 - val_recall: 0.9911\n",
      "Epoch 26/100\n",
      "912/912 [==============================] - 1s 1ms/step - loss: 0.0487 - accuracy: 0.9844 - precision: 0.9850 - recall: 0.9837 - val_loss: 0.0228 - val_accuracy: 0.9926 - val_precision: 0.9929 - val_recall: 0.9926\n",
      "Epoch 27/100\n",
      "912/912 [==============================] - 1s 1ms/step - loss: 0.0466 - accuracy: 0.9855 - precision: 0.9859 - recall: 0.9848 - val_loss: 0.0247 - val_accuracy: 0.9929 - val_precision: 0.9931 - val_recall: 0.9927\n",
      "Epoch 28/100\n",
      "912/912 [==============================] - 1s 1ms/step - loss: 0.0500 - accuracy: 0.9844 - precision: 0.9849 - recall: 0.9839 - val_loss: 0.0229 - val_accuracy: 0.9922 - val_precision: 0.9927 - val_recall: 0.9922\n",
      "Epoch 29/100\n",
      "912/912 [==============================] - 1s 1ms/step - loss: 0.0472 - accuracy: 0.9850 - precision: 0.9856 - recall: 0.9844 - val_loss: 0.0244 - val_accuracy: 0.9918 - val_precision: 0.9920 - val_recall: 0.9918\n",
      "Epoch 30/100\n",
      "912/912 [==============================] - 1s 1ms/step - loss: 0.0486 - accuracy: 0.9844 - precision: 0.9850 - recall: 0.9838 - val_loss: 0.0223 - val_accuracy: 0.9919 - val_precision: 0.9925 - val_recall: 0.9918\n",
      "Epoch 31/100\n",
      "912/912 [==============================] - 1s 1ms/step - loss: 0.0463 - accuracy: 0.9864 - precision: 0.9870 - recall: 0.9858 - val_loss: 0.0221 - val_accuracy: 0.9920 - val_precision: 0.9923 - val_recall: 0.9918\n",
      "Epoch 32/100\n",
      "912/912 [==============================] - 1s 1ms/step - loss: 0.0464 - accuracy: 0.9853 - precision: 0.9859 - recall: 0.9848 - val_loss: 0.0228 - val_accuracy: 0.9926 - val_precision: 0.9929 - val_recall: 0.9925\n",
      "Epoch 33/100\n",
      "912/912 [==============================] - 1s 1ms/step - loss: 0.0449 - accuracy: 0.9864 - precision: 0.9867 - recall: 0.9859 - val_loss: 0.0223 - val_accuracy: 0.9923 - val_precision: 0.9925 - val_recall: 0.9922\n",
      "Epoch 34/100\n",
      "912/912 [==============================] - 1s 1ms/step - loss: 0.0461 - accuracy: 0.9857 - precision: 0.9860 - recall: 0.9855 - val_loss: 0.0247 - val_accuracy: 0.9922 - val_precision: 0.9922 - val_recall: 0.9918\n",
      "Epoch 35/100\n",
      "912/912 [==============================] - 1s 1ms/step - loss: 0.0437 - accuracy: 0.9852 - precision: 0.9859 - recall: 0.9848 - val_loss: 0.0237 - val_accuracy: 0.9929 - val_precision: 0.9929 - val_recall: 0.9927\n",
      "Epoch 36/100\n",
      "912/912 [==============================] - 1s 1ms/step - loss: 0.0432 - accuracy: 0.9863 - precision: 0.9870 - recall: 0.9859 - val_loss: 0.0226 - val_accuracy: 0.9930 - val_precision: 0.9931 - val_recall: 0.9929\n",
      "Epoch 37/100\n",
      "912/912 [==============================] - 1s 1ms/step - loss: 0.0444 - accuracy: 0.9866 - precision: 0.9870 - recall: 0.9861 - val_loss: 0.0211 - val_accuracy: 0.9937 - val_precision: 0.9938 - val_recall: 0.9937\n",
      "Epoch 38/100\n",
      "912/912 [==============================] - 1s 1ms/step - loss: 0.0414 - accuracy: 0.9874 - precision: 0.9880 - recall: 0.9869 - val_loss: 0.0205 - val_accuracy: 0.9929 - val_precision: 0.9930 - val_recall: 0.9927\n",
      "Epoch 39/100\n",
      "912/912 [==============================] - 1s 1ms/step - loss: 0.0412 - accuracy: 0.9871 - precision: 0.9873 - recall: 0.9867 - val_loss: 0.0211 - val_accuracy: 0.9942 - val_precision: 0.9942 - val_recall: 0.9941\n",
      "Epoch 40/100\n",
      "912/912 [==============================] - 1s 1ms/step - loss: 0.0432 - accuracy: 0.9867 - precision: 0.9873 - recall: 0.9864 - val_loss: 0.0222 - val_accuracy: 0.9937 - val_precision: 0.9940 - val_recall: 0.9936\n",
      "Epoch 41/100\n",
      "912/912 [==============================] - 1s 1ms/step - loss: 0.0444 - accuracy: 0.9869 - precision: 0.9873 - recall: 0.9863 - val_loss: 0.0228 - val_accuracy: 0.9938 - val_precision: 0.9941 - val_recall: 0.9937\n",
      "Epoch 42/100\n",
      "912/912 [==============================] - 1s 1ms/step - loss: 0.0383 - accuracy: 0.9880 - precision: 0.9885 - recall: 0.9876 - val_loss: 0.0218 - val_accuracy: 0.9940 - val_precision: 0.9940 - val_recall: 0.9940\n",
      "Epoch 43/100\n",
      "912/912 [==============================] - 1s 1ms/step - loss: 0.0375 - accuracy: 0.9879 - precision: 0.9883 - recall: 0.9875 - val_loss: 0.0200 - val_accuracy: 0.9940 - val_precision: 0.9940 - val_recall: 0.9937\n",
      "Epoch 44/100\n",
      "912/912 [==============================] - 1s 1ms/step - loss: 0.0430 - accuracy: 0.9856 - precision: 0.9860 - recall: 0.9851 - val_loss: 0.0234 - val_accuracy: 0.9927 - val_precision: 0.9930 - val_recall: 0.9927\n",
      "Epoch 45/100\n",
      "912/912 [==============================] - 1s 1ms/step - loss: 0.0370 - accuracy: 0.9878 - precision: 0.9881 - recall: 0.9875 - val_loss: 0.0222 - val_accuracy: 0.9936 - val_precision: 0.9936 - val_recall: 0.9933\n",
      "Epoch 46/100\n",
      "912/912 [==============================] - 1s 1ms/step - loss: 0.0427 - accuracy: 0.9865 - precision: 0.9870 - recall: 0.9859 - val_loss: 0.0214 - val_accuracy: 0.9931 - val_precision: 0.9934 - val_recall: 0.9931\n",
      "Epoch 47/100\n",
      "912/912 [==============================] - 1s 1ms/step - loss: 0.0375 - accuracy: 0.9885 - precision: 0.9889 - recall: 0.9881 - val_loss: 0.0198 - val_accuracy: 0.9941 - val_precision: 0.9942 - val_recall: 0.9940\n",
      "Epoch 48/100\n",
      "912/912 [==============================] - 1s 1ms/step - loss: 0.0386 - accuracy: 0.9872 - precision: 0.9878 - recall: 0.9868 - val_loss: 0.0204 - val_accuracy: 0.9940 - val_precision: 0.9941 - val_recall: 0.9940\n",
      "Epoch 49/100\n",
      "912/912 [==============================] - 1s 1ms/step - loss: 0.0385 - accuracy: 0.9879 - precision: 0.9882 - recall: 0.9877 - val_loss: 0.0207 - val_accuracy: 0.9942 - val_precision: 0.9942 - val_recall: 0.9941\n",
      "Epoch 50/100\n",
      "912/912 [==============================] - 1s 1ms/step - loss: 0.0388 - accuracy: 0.9873 - precision: 0.9876 - recall: 0.9868 - val_loss: 0.0195 - val_accuracy: 0.9929 - val_precision: 0.9929 - val_recall: 0.9929\n",
      "Epoch 51/100\n",
      "912/912 [==============================] - 1s 1ms/step - loss: 0.0373 - accuracy: 0.9881 - precision: 0.9884 - recall: 0.9877 - val_loss: 0.0255 - val_accuracy: 0.9929 - val_precision: 0.9931 - val_recall: 0.9929\n",
      "Epoch 52/100\n",
      "912/912 [==============================] - 1s 1ms/step - loss: 0.0348 - accuracy: 0.9885 - precision: 0.9892 - recall: 0.9881 - val_loss: 0.0195 - val_accuracy: 0.9933 - val_precision: 0.9936 - val_recall: 0.9931\n",
      "Epoch 53/100\n",
      "912/912 [==============================] - 1s 1ms/step - loss: 0.0379 - accuracy: 0.9878 - precision: 0.9882 - recall: 0.9874 - val_loss: 0.0199 - val_accuracy: 0.9947 - val_precision: 0.9951 - val_recall: 0.9947\n",
      "Epoch 54/100\n",
      "912/912 [==============================] - 1s 1ms/step - loss: 0.0374 - accuracy: 0.9879 - precision: 0.9884 - recall: 0.9876 - val_loss: 0.0214 - val_accuracy: 0.9933 - val_precision: 0.9938 - val_recall: 0.9931\n",
      "Epoch 55/100\n",
      "912/912 [==============================] - 1s 1ms/step - loss: 0.0373 - accuracy: 0.9881 - precision: 0.9885 - recall: 0.9878 - val_loss: 0.0228 - val_accuracy: 0.9926 - val_precision: 0.9926 - val_recall: 0.9926\n",
      "Epoch 56/100\n",
      "912/912 [==============================] - 1s 1ms/step - loss: 0.0346 - accuracy: 0.9889 - precision: 0.9891 - recall: 0.9886 - val_loss: 0.0216 - val_accuracy: 0.9937 - val_precision: 0.9940 - val_recall: 0.9937\n",
      "Epoch 57/100\n",
      "912/912 [==============================] - 1s 1ms/step - loss: 0.0358 - accuracy: 0.9889 - precision: 0.9892 - recall: 0.9888 - val_loss: 0.0172 - val_accuracy: 0.9947 - val_precision: 0.9947 - val_recall: 0.9947\n",
      "Epoch 58/100\n",
      "912/912 [==============================] - 1s 1ms/step - loss: 0.0357 - accuracy: 0.9888 - precision: 0.9892 - recall: 0.9884 - val_loss: 0.0183 - val_accuracy: 0.9945 - val_precision: 0.9945 - val_recall: 0.9941\n",
      "Epoch 59/100\n",
      "912/912 [==============================] - 1s 1ms/step - loss: 0.0355 - accuracy: 0.9885 - precision: 0.9888 - recall: 0.9883 - val_loss: 0.0174 - val_accuracy: 0.9942 - val_precision: 0.9944 - val_recall: 0.9937\n",
      "Epoch 60/100\n",
      "912/912 [==============================] - 1s 1ms/step - loss: 0.0343 - accuracy: 0.9884 - precision: 0.9887 - recall: 0.9881 - val_loss: 0.0239 - val_accuracy: 0.9933 - val_precision: 0.9936 - val_recall: 0.9930\n",
      "Epoch 61/100\n",
      "912/912 [==============================] - 1s 1ms/step - loss: 0.0354 - accuracy: 0.9889 - precision: 0.9891 - recall: 0.9886 - val_loss: 0.0191 - val_accuracy: 0.9941 - val_precision: 0.9942 - val_recall: 0.9941\n",
      "Epoch 62/100\n",
      "912/912 [==============================] - 1s 1ms/step - loss: 0.0354 - accuracy: 0.9884 - precision: 0.9886 - recall: 0.9882 - val_loss: 0.0209 - val_accuracy: 0.9931 - val_precision: 0.9936 - val_recall: 0.9931\n",
      "Epoch 63/100\n",
      "912/912 [==============================] - 1s 1ms/step - loss: 0.0350 - accuracy: 0.9889 - precision: 0.9891 - recall: 0.9886 - val_loss: 0.0163 - val_accuracy: 0.9947 - val_precision: 0.9949 - val_recall: 0.9945\n",
      "Epoch 64/100\n",
      "912/912 [==============================] - 1s 1ms/step - loss: 0.0338 - accuracy: 0.9893 - precision: 0.9895 - recall: 0.9890 - val_loss: 0.0169 - val_accuracy: 0.9942 - val_precision: 0.9942 - val_recall: 0.9942\n",
      "Epoch 65/100\n",
      "912/912 [==============================] - 1s 1ms/step - loss: 0.0349 - accuracy: 0.9892 - precision: 0.9896 - recall: 0.9890 - val_loss: 0.0211 - val_accuracy: 0.9933 - val_precision: 0.9933 - val_recall: 0.9933\n",
      "Epoch 66/100\n",
      "912/912 [==============================] - 1s 1ms/step - loss: 0.0339 - accuracy: 0.9890 - precision: 0.9893 - recall: 0.9888 - val_loss: 0.0216 - val_accuracy: 0.9927 - val_precision: 0.9927 - val_recall: 0.9926\n",
      "Epoch 67/100\n",
      "912/912 [==============================] - 1s 1ms/step - loss: 0.0364 - accuracy: 0.9885 - precision: 0.9889 - recall: 0.9882 - val_loss: 0.0209 - val_accuracy: 0.9931 - val_precision: 0.9933 - val_recall: 0.9929\n",
      "Epoch 68/100\n",
      "912/912 [==============================] - 1s 1ms/step - loss: 0.0319 - accuracy: 0.9894 - precision: 0.9897 - recall: 0.9891 - val_loss: 0.0194 - val_accuracy: 0.9948 - val_precision: 0.9949 - val_recall: 0.9947\n",
      "Epoch 69/100\n",
      "912/912 [==============================] - 1s 1ms/step - loss: 0.0319 - accuracy: 0.9901 - precision: 0.9904 - recall: 0.9899 - val_loss: 0.0184 - val_accuracy: 0.9949 - val_precision: 0.9952 - val_recall: 0.9949\n",
      "Epoch 70/100\n",
      "912/912 [==============================] - 1s 1ms/step - loss: 0.0340 - accuracy: 0.9891 - precision: 0.9894 - recall: 0.9889 - val_loss: 0.0216 - val_accuracy: 0.9933 - val_precision: 0.9933 - val_recall: 0.9931\n",
      "Epoch 71/100\n",
      "912/912 [==============================] - 1s 1ms/step - loss: 0.0329 - accuracy: 0.9891 - precision: 0.9895 - recall: 0.9888 - val_loss: 0.0249 - val_accuracy: 0.9934 - val_precision: 0.9938 - val_recall: 0.9933\n",
      "Epoch 72/100\n",
      "912/912 [==============================] - 1s 1ms/step - loss: 0.0312 - accuracy: 0.9900 - precision: 0.9903 - recall: 0.9895 - val_loss: 0.0196 - val_accuracy: 0.9944 - val_precision: 0.9945 - val_recall: 0.9944\n",
      "Epoch 73/100\n",
      "912/912 [==============================] - 1s 1ms/step - loss: 0.0331 - accuracy: 0.9893 - precision: 0.9896 - recall: 0.9890 - val_loss: 0.0179 - val_accuracy: 0.9956 - val_precision: 0.9956 - val_recall: 0.9955\n",
      "Epoch 74/100\n",
      "912/912 [==============================] - 1s 1ms/step - loss: 0.0309 - accuracy: 0.9901 - precision: 0.9904 - recall: 0.9897 - val_loss: 0.0223 - val_accuracy: 0.9930 - val_precision: 0.9931 - val_recall: 0.9929\n",
      "Epoch 75/100\n",
      "912/912 [==============================] - 1s 1ms/step - loss: 0.0316 - accuracy: 0.9904 - precision: 0.9909 - recall: 0.9903 - val_loss: 0.0203 - val_accuracy: 0.9938 - val_precision: 0.9938 - val_recall: 0.9938\n",
      "Epoch 76/100\n",
      "912/912 [==============================] - 1s 1ms/step - loss: 0.0307 - accuracy: 0.9901 - precision: 0.9904 - recall: 0.9899 - val_loss: 0.0159 - val_accuracy: 0.9953 - val_precision: 0.9955 - val_recall: 0.9953\n",
      "Epoch 77/100\n",
      "912/912 [==============================] - 1s 1ms/step - loss: 0.0315 - accuracy: 0.9901 - precision: 0.9904 - recall: 0.9896 - val_loss: 0.0182 - val_accuracy: 0.9941 - val_precision: 0.9941 - val_recall: 0.9941\n",
      "Epoch 78/100\n",
      "912/912 [==============================] - 1s 1ms/step - loss: 0.0320 - accuracy: 0.9894 - precision: 0.9897 - recall: 0.9892 - val_loss: 0.0184 - val_accuracy: 0.9947 - val_precision: 0.9947 - val_recall: 0.9944\n",
      "Epoch 79/100\n",
      "912/912 [==============================] - 1s 1ms/step - loss: 0.0316 - accuracy: 0.9900 - precision: 0.9903 - recall: 0.9898 - val_loss: 0.0194 - val_accuracy: 0.9951 - val_precision: 0.9952 - val_recall: 0.9951\n",
      "Epoch 80/100\n",
      "912/912 [==============================] - 1s 1ms/step - loss: 0.0315 - accuracy: 0.9907 - precision: 0.9909 - recall: 0.9905 - val_loss: 0.0189 - val_accuracy: 0.9942 - val_precision: 0.9942 - val_recall: 0.9942\n",
      "Epoch 81/100\n",
      "912/912 [==============================] - 1s 1ms/step - loss: 0.0318 - accuracy: 0.9898 - precision: 0.9902 - recall: 0.9893 - val_loss: 0.0201 - val_accuracy: 0.9949 - val_precision: 0.9951 - val_recall: 0.9949\n",
      "Epoch 82/100\n",
      "912/912 [==============================] - 1s 1ms/step - loss: 0.0316 - accuracy: 0.9897 - precision: 0.9901 - recall: 0.9893 - val_loss: 0.0166 - val_accuracy: 0.9952 - val_precision: 0.9952 - val_recall: 0.9951\n",
      "Epoch 83/100\n",
      "912/912 [==============================] - 1s 1ms/step - loss: 0.0284 - accuracy: 0.9904 - precision: 0.9907 - recall: 0.9901 - val_loss: 0.0170 - val_accuracy: 0.9953 - val_precision: 0.9953 - val_recall: 0.9953\n",
      "Epoch 84/100\n",
      "912/912 [==============================] - 1s 1ms/step - loss: 0.0330 - accuracy: 0.9893 - precision: 0.9897 - recall: 0.9893 - val_loss: 0.0212 - val_accuracy: 0.9941 - val_precision: 0.9941 - val_recall: 0.9940\n",
      "Epoch 85/100\n",
      "912/912 [==============================] - 1s 1ms/step - loss: 0.0316 - accuracy: 0.9900 - precision: 0.9904 - recall: 0.9898 - val_loss: 0.0172 - val_accuracy: 0.9944 - val_precision: 0.9945 - val_recall: 0.9942\n",
      "Epoch 86/100\n",
      "912/912 [==============================] - 1s 1ms/step - loss: 0.0287 - accuracy: 0.9905 - precision: 0.9907 - recall: 0.9903 - val_loss: 0.0155 - val_accuracy: 0.9956 - val_precision: 0.9957 - val_recall: 0.9955\n",
      "Epoch 87/100\n",
      "912/912 [==============================] - 1s 1ms/step - loss: 0.0283 - accuracy: 0.9909 - precision: 0.9911 - recall: 0.9907 - val_loss: 0.0167 - val_accuracy: 0.9952 - val_precision: 0.9952 - val_recall: 0.9952\n",
      "Epoch 88/100\n",
      "912/912 [==============================] - 1s 1ms/step - loss: 0.0298 - accuracy: 0.9904 - precision: 0.9908 - recall: 0.9903 - val_loss: 0.0166 - val_accuracy: 0.9947 - val_precision: 0.9947 - val_recall: 0.9947\n",
      "Epoch 89/100\n",
      "912/912 [==============================] - 1s 1ms/step - loss: 0.0288 - accuracy: 0.9906 - precision: 0.9910 - recall: 0.9903 - val_loss: 0.0172 - val_accuracy: 0.9951 - val_precision: 0.9951 - val_recall: 0.9949\n",
      "Epoch 90/100\n",
      "912/912 [==============================] - 1s 1ms/step - loss: 0.0305 - accuracy: 0.9896 - precision: 0.9900 - recall: 0.9894 - val_loss: 0.0203 - val_accuracy: 0.9937 - val_precision: 0.9937 - val_recall: 0.9937\n",
      "Epoch 91/100\n",
      "912/912 [==============================] - 1s 1ms/step - loss: 0.0285 - accuracy: 0.9907 - precision: 0.9910 - recall: 0.9905 - val_loss: 0.0181 - val_accuracy: 0.9949 - val_precision: 0.9951 - val_recall: 0.9948\n",
      "Epoch 92/100\n",
      "912/912 [==============================] - 1s 1ms/step - loss: 0.0290 - accuracy: 0.9908 - precision: 0.9910 - recall: 0.9906 - val_loss: 0.0217 - val_accuracy: 0.9931 - val_precision: 0.9931 - val_recall: 0.9931\n",
      "Epoch 93/100\n",
      "912/912 [==============================] - 1s 1ms/step - loss: 0.0300 - accuracy: 0.9907 - precision: 0.9909 - recall: 0.9905 - val_loss: 0.0242 - val_accuracy: 0.9934 - val_precision: 0.9938 - val_recall: 0.9931\n",
      "Epoch 94/100\n",
      "912/912 [==============================] - 1s 1ms/step - loss: 0.0295 - accuracy: 0.9911 - precision: 0.9914 - recall: 0.9908 - val_loss: 0.0159 - val_accuracy: 0.9951 - val_precision: 0.9952 - val_recall: 0.9949\n",
      "Epoch 95/100\n",
      "912/912 [==============================] - 1s 1ms/step - loss: 0.0299 - accuracy: 0.9899 - precision: 0.9901 - recall: 0.9896 - val_loss: 0.0196 - val_accuracy: 0.9944 - val_precision: 0.9945 - val_recall: 0.9942\n",
      "Epoch 96/100\n",
      "912/912 [==============================] - 1s 1ms/step - loss: 0.0275 - accuracy: 0.9910 - precision: 0.9913 - recall: 0.9906 - val_loss: 0.0192 - val_accuracy: 0.9933 - val_precision: 0.9933 - val_recall: 0.9933\n",
      "Epoch 97/100\n",
      "912/912 [==============================] - 1s 1ms/step - loss: 0.0303 - accuracy: 0.9901 - precision: 0.9905 - recall: 0.9897 - val_loss: 0.0254 - val_accuracy: 0.9930 - val_precision: 0.9933 - val_recall: 0.9930\n",
      "Epoch 98/100\n",
      "912/912 [==============================] - 1s 1ms/step - loss: 0.0308 - accuracy: 0.9893 - precision: 0.9895 - recall: 0.9890 - val_loss: 0.0226 - val_accuracy: 0.9938 - val_precision: 0.9940 - val_recall: 0.9938\n",
      "Epoch 99/100\n",
      "912/912 [==============================] - 1s 1ms/step - loss: 0.0268 - accuracy: 0.9918 - precision: 0.9920 - recall: 0.9915 - val_loss: 0.0204 - val_accuracy: 0.9940 - val_precision: 0.9940 - val_recall: 0.9940\n",
      "Epoch 100/100\n",
      "912/912 [==============================] - 1s 1ms/step - loss: 0.0276 - accuracy: 0.9909 - precision: 0.9912 - recall: 0.9907 - val_loss: 0.0197 - val_accuracy: 0.9944 - val_precision: 0.9944 - val_recall: 0.9944\n"
     ]
    },
    {
     "data": {
      "image/png": "[encoded data removed]",
      "text/plain": [
       "<Figure size 1000x600 with 1 Axes>"
      ]
     },
     "metadata": {},
     "output_type": "display_data"
    }
   ],
   "source": [
    "# Train the Model\n",
    "history = hybrid_model.fit(\n",
    "    train_generator,\n",
    "    validation_data=val_generator,\n",
    "    epochs=100,\n",
    "    verbose=1\n",
    ")\n",
    "\n",
    "# Plot Results\n",
    "plt.figure(figsize=(10, 6))\n",
    "plt.plot(history.history['accuracy'], label='Training Accuracy')\n",
    "plt.plot(history.history['val_accuracy'], label='Validation Accuracy')\n",
    "plt.xlabel('Epochs')\n",
    "plt.ylabel('Accuracy')\n",
    "plt.title('Training and Validation Accuracy Over Epochs')\n",
    "plt.legend()\n",
    "plt.grid()\n",
    "plt.show()\n"
   ]
  },
  {
   "cell_type": "code",
   "execution_count": 72,
   "metadata": {},
   "outputs": [
    {
     "name": "stdout",
     "output_type": "stream",
     "text": [
      "285/285 [==============================] - 0s 523us/step\n",
      "Saved 2280 malicious TLS traffic records to 'Malicious_TLS_Traffic.csv'.\n"
     ]
    }
   ],
   "source": [
    "# Predict Malicious TLS Traffic\n",
    "y_pred_probs = hybrid_model.predict([X_test.iloc[:, :num_qubits], X_test.iloc[:, num_qubits:]])\n",
    "y_pred = np.argmax(y_pred_probs, axis=1)\n",
    "\n",
    "# Extract Malicious Traffic (Assuming Label '0' Represents Malicious Traffic)\n",
    "malicious_traffic = X_test.iloc[np.where(y_pred == 0)].copy()\n",
    "malicious_traffic['Predicted_Label'] = y_pred[np.where(y_pred == 0)]\n",
    "\n",
    "# Save Malicious TLS Traffic to CSV\n",
    "malicious_traffic.to_csv(\"Malicious_TLS_Traffic.csv\", index=False)\n",
    "print(f\"Saved {len(malicious_traffic)} malicious TLS traffic records to 'Malicious_TLS_Traffic.csv'.\")"
   ]
  }
 ],
 "metadata": {
  "kernelspec": {
   "display_name": "Python 3",
   "language": "python",
   "name": "python3"
  },
  "language_info": {
   "codemirror_mode": {
    "name": "ipython",
    "version": 3
   },
   "file_extension": ".py",
   "mimetype": "text/x-python",
   "name": "python",
   "nbconvert_exporter": "python",
   "pygments_lexer": "ipython3",
   "version": "3.10.11"
  }
 },
 "nbformat": 4,
 "nbformat_minor": 2
}
