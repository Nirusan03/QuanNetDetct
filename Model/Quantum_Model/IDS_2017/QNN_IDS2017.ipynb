{
 "cells": [
  {
   "cell_type": "code",
   "execution_count": 4,
   "metadata": {},
   "outputs": [
    {
     "name": "stdout",
     "output_type": "stream",
     "text": [
      "Total dataset shape: (2830743, 79)\n",
      "    Destination Port   Flow Duration   Total Fwd Packets  \\\n",
      "0              54865               3                   2   \n",
      "1              55054             109                   1   \n",
      "2              55055              52                   1   \n",
      "3              46236              34                   1   \n",
      "4              54863               3                   2   \n",
      "\n",
      "    Total Backward Packets  Total Length of Fwd Packets  \\\n",
      "0                        0                           12   \n",
      "1                        1                            6   \n",
      "2                        1                            6   \n",
      "3                        1                            6   \n",
      "4                        0                           12   \n",
      "\n",
      "    Total Length of Bwd Packets   Fwd Packet Length Max  \\\n",
      "0                             0                       6   \n",
      "1                             6                       6   \n",
      "2                             6                       6   \n",
      "3                             6                       6   \n",
      "4                             0                       6   \n",
      "\n",
      "    Fwd Packet Length Min   Fwd Packet Length Mean   Fwd Packet Length Std  \\\n",
      "0                       6                      6.0                     0.0   \n",
      "1                       6                      6.0                     0.0   \n",
      "2                       6                      6.0                     0.0   \n",
      "3                       6                      6.0                     0.0   \n",
      "4                       6                      6.0                     0.0   \n",
      "\n",
      "   ...   min_seg_size_forward  Active Mean   Active Std   Active Max  \\\n",
      "0  ...                     20          0.0          0.0            0   \n",
      "1  ...                     20          0.0          0.0            0   \n",
      "2  ...                     20          0.0          0.0            0   \n",
      "3  ...                     20          0.0          0.0            0   \n",
      "4  ...                     20          0.0          0.0            0   \n",
      "\n",
      "    Active Min  Idle Mean   Idle Std   Idle Max   Idle Min   Label  \n",
      "0            0        0.0        0.0          0          0  BENIGN  \n",
      "1            0        0.0        0.0          0          0  BENIGN  \n",
      "2            0        0.0        0.0          0          0  BENIGN  \n",
      "3            0        0.0        0.0          0          0  BENIGN  \n",
      "4            0        0.0        0.0          0          0  BENIGN  \n",
      "\n",
      "[5 rows x 79 columns]\n",
      "\n",
      "Top 20 Most Used Ports in Malicious Traffic:\n",
      " 80      383239\n",
      "21        8181\n",
      "22        6140\n",
      "8080      1421\n",
      "444        256\n",
      "443        240\n",
      "139        197\n",
      "445        179\n",
      "2998       161\n",
      "2910       161\n",
      "3826       161\n",
      "3013       161\n",
      "1110       160\n",
      "9103       160\n",
      "5952       160\n",
      "4000       160\n",
      "1259       160\n",
      "8994       160\n",
      "5810       160\n",
      "4001       160\n",
      "Name:  Destination Port, dtype: int64\n",
      "\n",
      "Top 10 Most Common Attack Types:\n",
      " DoS Hulk                    231073\n",
      "PortScan                    158930\n",
      "DDoS                        128027\n",
      "DoS GoldenEye                10293\n",
      "FTP-Patator                   7938\n",
      "SSH-Patator                   5897\n",
      "DoS slowloris                 5796\n",
      "DoS Slowhttptest              5499\n",
      "Bot                           1966\n",
      "Web Attack � Brute Force      1507\n",
      "Name:  Label, dtype: int64\n"
     ]
    }
   ],
   "source": [
    "import os\n",
    "import pandas as pd\n",
    "\n",
    "# Define the folder containing CIC-IDS2017 CSV files\n",
    "folder_path = \"E:\\\\Studies\\\\IIT\\\\4 - Forth Year\\\\Final Year Project\\\\Datasets\\\\CICIDS 2017\\\\\"\n",
    "\n",
    "# List all CSV files in the folder\n",
    "csv_files = [os.path.join(folder_path, f) for f in os.listdir(folder_path) if f.endswith('.csv')]\n",
    "\n",
    "# Load and combine all CSV files\n",
    "df = pd.concat([pd.read_csv(f, low_memory=False) for f in csv_files], ignore_index=True)\n",
    "\n",
    "# Display dataset shape and first few rows\n",
    "print(f\"Total dataset shape: {df.shape}\")\n",
    "print(df.head())\n",
    "\n",
    "# Extract all attack traffic (non-Benign)\n",
    "malicious_all = df[df[' Label'] != 'BENIGN']\n",
    "\n",
    "# Get the most used destination ports for malicious traffic\n",
    "top_ports = malicious_all[' Destination Port'].value_counts().head(20)\n",
    "\n",
    "# Get the most common attack types\n",
    "top_attacks = malicious_all[' Label'].value_counts().head(10)\n",
    "\n",
    "# Print results\n",
    "print(\"\\nTop 20 Most Used Ports in Malicious Traffic:\\n\", top_ports)\n",
    "print(\"\\nTop 10 Most Common Attack Types:\\n\", top_attacks)"
   ]
  },
  {
   "cell_type": "code",
   "execution_count": 10,
   "metadata": {},
   "outputs": [
    {
     "name": "stdout",
     "output_type": "stream",
     "text": [
      "Malicious TLS Traffic Breakdown:\n",
      "PortScan    718\n",
      "Name:  Label, dtype: int64\n",
      "✅ Malicious TLS traffic exists in the dataset.\n"
     ]
    }
   ],
   "source": [
    "# Check if any attack traffic exists on TLS ports\n",
    "tls_ports = [443, 993, 995, 8443]\n",
    "malicious_tls_traffic = df[(df[' Label'] != 'BENIGN') & (df[' Destination Port'].isin(tls_ports))]\n",
    "\n",
    "# Print attack types found in TLS traffic\n",
    "print(\"Malicious TLS Traffic Breakdown:\")\n",
    "print(malicious_tls_traffic[' Label'].value_counts())\n",
    "\n",
    "if malicious_tls_traffic.empty:\n",
    "    print(\"⚠️ No malicious TLS traffic found in the dataset!\")\n",
    "else:\n",
    "    print(\"✅ Malicious TLS traffic exists in the dataset.\")\n"
   ]
  },
  {
   "cell_type": "code",
   "execution_count": 7,
   "metadata": {},
   "outputs": [
    {
     "name": "stdout",
     "output_type": "stream",
     "text": [
      "Malicious TLS Traffic Breakdown:\n",
      "PortScan    718\n",
      "Name:  Label, dtype: int64\n"
     ]
    }
   ],
   "source": [
    "# Check if any attack traffic exists on TLS ports\n",
    "tls_ports = [443, 993, 995, 8443]\n",
    "malicious_tls_traffic = malicious_all[malicious_all[' Destination Port'].isin(tls_ports)]\n",
    "\n",
    "# Print attack types found in TLS traffic\n",
    "print(\"Malicious TLS Traffic Breakdown:\")\n",
    "print(malicious_tls_traffic[' Label'].value_counts())"
   ]
  }
 ],
 "metadata": {
  "kernelspec": {
   "display_name": "Python 3",
   "language": "python",
   "name": "python3"
  },
  "language_info": {
   "codemirror_mode": {
    "name": "ipython",
    "version": 3
   },
   "file_extension": ".py",
   "mimetype": "text/x-python",
   "name": "python",
   "nbconvert_exporter": "python",
   "pygments_lexer": "ipython3",
   "version": "3.10.11"
  }
 },
 "nbformat": 4,
 "nbformat_minor": 2
}
