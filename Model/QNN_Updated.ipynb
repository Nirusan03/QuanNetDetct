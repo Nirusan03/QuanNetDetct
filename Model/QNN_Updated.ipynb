{
 "cells": [
  {
   "cell_type": "code",
   "execution_count": 1,
   "metadata": {},
   "outputs": [],
   "source": [
    "# Importing the required libraries\n",
    "from sklearn.metrics import confusion_matrix, ConfusionMatrixDisplay\n",
    "from sklearn.model_selection import train_test_split\n",
    "from sklearn.preprocessing import LabelEncoder, MinMaxScaler\n",
    "from sklearn.decomposition import PCA\n",
    "from tensorflow.keras.utils import to_categorical\n",
    "from imblearn.over_sampling import SMOTE\n",
    "from sklearn.preprocessing import OneHotEncoder\n",
    "from tensorflow.keras.models import load_model\n",
    "\n",
    "\n",
    "import pennylane as qml\n",
    "import matplotlib.pyplot as plt\n",
    "import tensorflow as tf\n",
    "import numpy as np\n",
    "import pandas as pd\n",
    "import seaborn as sns\n",
    "import joblib\n",
    "import gc\n",
    "\n",
    "# Set random seed for reproducibility\n",
    "np.random.seed(42)"
   ]
  },
  {
   "cell_type": "code",
   "execution_count": 4,
   "metadata": {},
   "outputs": [],
   "source": [
    "# Load Dataset\n",
    "file_path = \"E:\\\\Studies\\\\IIT\\\\4 - Forth Year\\\\Final Year Project\\\\Datasets\\\\CESNET-TLS-Year22\\\\flows-20211017.csv\"\n",
    "cesnet = pd.read_csv(file_path)"
   ]
  },
  {
   "cell_type": "code",
   "execution_count": 5,
   "metadata": {},
   "outputs": [
    {
     "name": "stdout",
     "output_type": "stream",
     "text": [
      "          ID  BYTES  BYTES_REV  PACKETS  PACKETS_REV   DURATION  \\\n",
      "0  136435926  19504       9425       26           23   2.685075   \n",
      "1  136435927   2891       5522       17           19  65.644875   \n",
      "2  136435928   2586       4577       13           13   0.243655   \n",
      "3  136435929   1567       2232       12           13   0.125484   \n",
      "4  136435930   1940       1585        7            6   0.194700   \n",
      "\n",
      "                                                 PPI  PPI_LEN  PPI_DURATION  \\\n",
      "0  [[0, 128, 0, 0, 0, 486, 437, 13, 128, 9, 1, 27...       29         2.373   \n",
      "1  [[0, 121, 0, 0, 0, 1, 0, 2, 121, 0, 2, 0, 152,...       15        65.399   \n",
      "2  [[0, 27, 0, 0, 11, 26, 0, 13, 1, 0, 0, 26, 65,...       14         0.204   \n",
      "3  [[0, 1, 13, 27, 0, 5, 1, 1, 5, 43, 0], [1, -1,...       11         0.096   \n",
      "4  [[0, 21, 2, 75, 24, 0, 0], [1, -1, 1, 1, -1, -...        7         0.122   \n",
      "\n",
      "   PPI_ROUNDTRIPS  ... FLAG_ACK FLAG_ACK_REV  FLAG_PSH  FLAG_PSH_REV  \\\n",
      "0               5  ...        1            1         1             1   \n",
      "1               3  ...        1            1         1             1   \n",
      "2               3  ...        1            1         1             1   \n",
      "3               4  ...        1            1         1             1   \n",
      "4               2  ...        1            1         1             1   \n",
      "\n",
      "   FLAG_RST  FLAG_RST_REV  FLAG_SYN  FLAG_SYN_REV  FLAG_FIN  FLAG_FIN_REV  \n",
      "0         0             0         1             1         1             1  \n",
      "1         0             0         1             1         1             1  \n",
      "2         1             0         1             1         1             1  \n",
      "3         1             0         1             1         0             1  \n",
      "4         0             0         1             1         0             0  \n",
      "\n",
      "[5 rows x 30 columns]\n"
     ]
    }
   ],
   "source": [
    "print(cesnet.head())"
   ]
  }
 ],
 "metadata": {
  "kernelspec": {
   "display_name": "Python 3",
   "language": "python",
   "name": "python3"
  },
  "language_info": {
   "codemirror_mode": {
    "name": "ipython",
    "version": 3
   },
   "file_extension": ".py",
   "mimetype": "text/x-python",
   "name": "python",
   "nbconvert_exporter": "python",
   "pygments_lexer": "ipython3",
   "version": "3.10.11"
  }
 },
 "nbformat": 4,
 "nbformat_minor": 2
}
