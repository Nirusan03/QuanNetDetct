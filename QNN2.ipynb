{
 "cells": [
  {
   "cell_type": "code",
   "execution_count": null,
   "metadata": {},
   "outputs": [],
   "source": [
    "pip install pennylane torch scikit-learn"
   ]
  },
  {
   "cell_type": "code",
   "execution_count": null,
   "metadata": {},
   "outputs": [],
   "source": [
    "import pennylane as qml\n",
    "from pennylane import numpy as np\n",
    "import torch\n",
    "from torch import nn\n",
    "from sklearn.preprocessing import LabelEncoder, StandardScaler\n",
    "from sklearn.model_selection import train_test_split\n",
    "import pandas as pd"
   ]
  },
  {
   "cell_type": "code",
   "execution_count": null,
   "metadata": {},
   "outputs": [],
   "source": [
    "# Load the dataset\n",
    "file_path = 'C:\\\\Users\\\\Nirusan03\\\\PycharmProjects\\\\FYP_POC\\\\Final_Dataset.csv'  # Update path\n",
    "dataset = pd.read_csv(file_path)\n",
    "\n",
    "# Selecting features and label\n",
    "features = dataset.drop(columns=['Label', 'Label.1'])[:100]  # Use only a subset to reduce computation\n",
    "label = dataset['Label'][:100]\n",
    "\n",
    "# Encode and scale the data\n",
    "label_encoder = LabelEncoder()\n",
    "encoded_labels = label_encoder.fit_transform(label)\n",
    "\n",
    "scaler = StandardScaler()\n",
    "features_scaled = scaler.fit_transform(features)\n",
    "\n",
    "# Train-test split\n",
    "X_train, X_test, y_train, y_test = train_test_split(features_scaled, encoded_labels, test_size=0.2, random_state=42)"
   ]
  },
  {
   "cell_type": "code",
   "execution_count": null,
   "metadata": {},
   "outputs": [],
   "source": [
    "# Define a 2-qubit quantum device\n",
    "n_qubits = 2\n",
    "dev = qml.device(\"default.qubit\", wires=n_qubits)\n",
    "\n",
    "# Quantum circuit to process input data\n",
    "def quantum_circuit(inputs, weights):\n",
    "    qml.templates.AngleEmbedding(inputs, wires=range(n_qubits))\n",
    "    qml.templates.BasicEntanglerLayers(weights, wires=range(n_qubits))\n",
    "    return [qml.expval(qml.PauliZ(i)) for i in range(n_qubits)]"
   ]
  },
  {
   "cell_type": "code",
   "execution_count": null,
   "metadata": {},
   "outputs": [],
   "source": [
    "# Quantum node\n",
    "n_layers = 2\n",
    "weight_shapes = {\"weights\": (n_layers, n_qubits)}\n",
    "qnode = qml.QNode(quantum_circuit, dev, interface=\"torch\")\n",
    "\n",
    "# Define the hybrid quantum-classical layer\n",
    "class HybridModel(nn.Module):\n",
    "    def __init__(self):\n",
    "        super(HybridModel, self).__init__()\n",
    "        self.q_params = nn.Parameter(torch.randn(weight_shapes[\"weights\"], dtype=torch.float32))  # Ensure float32\n",
    "        self.fc1 = nn.Linear(features_scaled.shape[1], n_qubits)\n",
    "        \n",
    "        # Adjust fc2's input size based on actual output from qnode\n",
    "        self.fc2 = nn.Linear(n_qubits, 1)  # Adjust if needed after confirming q_out size\n",
    "\n",
    "    def forward(self, x):\n",
    "        x = torch.tanh(self.fc1(x))\n",
    "        \n",
    "        # Execute the quantum node\n",
    "        q_out = qnode(x, self.q_params)\n",
    "        \n",
    "        # Convert q_out to a tensor and stack if it is a list\n",
    "        if isinstance(q_out, list):\n",
    "            q_out = torch.stack([torch.tensor(val, dtype=torch.float32) for val in q_out])\n",
    "        \n",
    "        # Ensure q_out shape compatibility\n",
    "        q_out = q_out.view(-1, n_qubits)  # Reshape q_out to have compatible shape for fc2\n",
    "        \n",
    "        # Pass through the final fully connected layer\n",
    "        x = self.fc2(q_out)\n",
    "        return torch.sigmoid(x)  # Output probability for binary classification\n"
   ]
  },
  {
   "cell_type": "code",
   "execution_count": null,
   "metadata": {},
   "outputs": [],
   "source": [
    "# Initialize the model, loss, and optimizer\n",
    "model = HybridModel()\n",
    "criterion = nn.BCELoss()\n",
    "optimizer = torch.optim.Adam(model.parameters(), lr=0.01)"
   ]
  },
  {
   "cell_type": "code",
   "execution_count": null,
   "metadata": {},
   "outputs": [],
   "source": [
    "# Data Preparation Section\n",
    "\n",
    "# Check that target values are in the range [0, 1]\n",
    "unique_labels = set(y_train)\n",
    "print(\"Unique values in y_train:\", unique_labels)\n",
    "\n",
    "# Convert to PyTorch tensors with correct data types\n",
    "X_train_tensor = torch.tensor(X_train, dtype=torch.float32)\n",
    "# Convert y_train to binary by mapping all values > 1 to 1\n",
    "y_train = [0 if label == 0 else 1 for label in y_train]\n",
    "y_train_tensor = torch.tensor(y_train, dtype=torch.float32).view(-1, 1)\n",
    "print(\"Updated unique values in y_train:\", set(y_train))\n",
    "\n",
    "# Confirm target tensor is in the correct format for BCELoss\n",
    "print(\"Target tensor dtype and shape:\", y_train_tensor.dtype, y_train_tensor.shape)"
   ]
  },
  {
   "cell_type": "code",
   "execution_count": null,
   "metadata": {},
   "outputs": [],
   "source": [
    "# Test model with a single sample to check for compatibility\n",
    "optimizer.zero_grad()\n",
    "output = model(X_train_tensor[:1])  # Forward pass with a single sample\n",
    "sample_loss = criterion(output, y_train_tensor[:1])  # Calculate sample loss\n",
    "print(\"Sample loss calculation successful:\", sample_loss.item())"
   ]
  },
  {
   "cell_type": "code",
   "execution_count": null,
   "metadata": {},
   "outputs": [],
   "source": [
    "n_epochs = 10\n",
    "for epoch in range(n_epochs):\n",
    "    optimizer.zero_grad()\n",
    "    output = model(X_train_tensor)\n",
    "    loss = criterion(output, y_train_tensor)\n",
    "    loss.backward()\n",
    "    optimizer.step()\n",
    "    print(f\"Epoch {epoch+1}, Loss: {loss.item()}\")"
   ]
  },
  {
   "cell_type": "code",
   "execution_count": null,
   "metadata": {},
   "outputs": [],
   "source": [
    "from sklearn.metrics import accuracy_score, precision_score, recall_score, f1_score\n",
    "\n",
    "# Set model to evaluation mode\n",
    "model.eval()\n",
    "with torch.no_grad():\n",
    "    y_pred_probs = model(X_test_tensor)\n",
    "    y_pred = y_pred_probs.argmax(dim=1)  # For multiclass, take the class with highest probability\n",
    "\n",
    "# Convert tensors to numpy arrays for compatibility\n",
    "y_pred_np = y_pred.cpu().numpy()\n",
    "y_test_np = y_test_tensor.cpu().numpy()\n",
    "\n",
    "# Calculate evaluation metrics for multiclass classification\n",
    "accuracy = accuracy_score(y_test_np, y_pred_np)\n",
    "precision = precision_score(y_test_np, y_pred_np, average='macro', zero_division=1)\n",
    "recall = recall_score(y_test_np, y_pred_np, average='macro', zero_division=1)\n",
    "f1 = f1_score(y_test_np, y_pred_np, average='macro', zero_division=1)\n",
    "\n",
    "# Print evaluation results\n",
    "print(f\"Accuracy: {accuracy:.4f}\")\n",
    "print(f\"Precision (macro): {precision:.4f}\")\n",
    "print(f\"Recall (macro): {recall:.4f}\")\n",
    "print(f\"F1 Score (macro): {f1:.4f}\")"
   ]
  }
 ],
 "metadata": {
  "kernelspec": {
   "display_name": "Python 3",
   "language": "python",
   "name": "python3"
  },
  "language_info": {
   "codemirror_mode": {
    "name": "ipython",
    "version": 3
   },
   "file_extension": ".py",
   "mimetype": "text/x-python",
   "name": "python",
   "nbconvert_exporter": "python",
   "pygments_lexer": "ipython3",
   "version": "3.10.11"
  }
 },
 "nbformat": 4,
 "nbformat_minor": 2
}
